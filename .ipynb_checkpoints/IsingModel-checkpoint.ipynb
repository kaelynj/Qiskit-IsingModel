{
 "cells": [
  {
   "cell_type": "code",
   "execution_count": 2,
   "metadata": {},
   "outputs": [
    {
     "name": "stderr",
     "output_type": "stream",
     "text": [
      "C:\\Users\\mattm\\Anaconda3\\lib\\site-packages\\qiskit\\providers\\ibmq\\ibmqfactory.py:192: UserWarning: Timestamps in IBMQ backend properties, jobs, and job results are all now in local time instead of UTC.\n",
      "  warnings.warn('Timestamps in IBMQ backend properties, jobs, and job results '\n"
     ]
    },
    {
     "name": "stdout",
     "output_type": "stream",
     "text": [
      "\r",
      "Job Status: job has successfully run\n",
      "[0.876953125]\n"
     ]
    }
   ],
   "source": [
    "%reset -f\n",
    "#%matplotlib inline\n",
    "# Importing standard Qiskit libraries and configuring account\n",
    "from qiskit import QuantumCircuit, execute, Aer, IBMQ, QuantumRegister\n",
    "from qiskit.providers.aer import QasmSimulator, StatevectorSimulator, UnitarySimulator\n",
    "from qiskit.compiler import transpile, assemble\n",
    "from qiskit.tools.monitor import job_monitor\n",
    "import matplotlib.pyplot as plt\n",
    "from qiskit.tools.jupyter import *\n",
    "from qiskit.visualization import *\n",
    "from qiskit.quantum_info import *\n",
    "import numpy as np\n",
    "provider = IBMQ.load_account()\n",
    "\n",
    "    \n",
    "# Loading your IBM Q account(s)\n",
    "#provider = IBMQ.load_account()\n",
    "\n",
    "#constants\n",
    "n = 4\n",
    "lambd = 1.2\n",
    "\n",
    "def thetak(k,lamb):\n",
    "    num = lamb - np.cos(2*np.pi*k/n)\n",
    "    denom = np.sqrt( (lamb-np.cos(2*np.pi*k/n))**2 + np.sin(2*np.pi*k/n)**2)\n",
    "    theta = np.arccos(num/denom)\n",
    "    return theta\n",
    "\n",
    "#Create functions based on the decomposition included in appendix of Ising paper\n",
    "def bog(qcirc, q1, q2, theta):\n",
    "    qcirc.x(q2)\n",
    "    qcirc.cx(q2, q1)\n",
    "    #Controlled RX gate\n",
    "    qcirc.rz(np.pi/2, q2)\n",
    "    qcirc.ry(theta/2, q2)\n",
    "    qcirc.cx(q1, q2)\n",
    "    qcirc.ry(-theta/2, q2)\n",
    "    qcirc.cx(q1, q2) #changed from qc to qcirc here - Bruna\n",
    "    qcirc.rz(-np.pi/2, q2)\n",
    "    #####################\n",
    "    qcirc.cx(q2, q1)\n",
    "    qcirc.x(q2)\n",
    "    qcirc.barrier()\n",
    "    return qcirc\n",
    "    \n",
    "def fourier(qcirc, q1, q2, phase):\n",
    "    qcirc.rz(phase, q1)\n",
    "    qcirc.cx(q1, q2)\n",
    "    #Controlled Hadamard\n",
    "    qcirc.sdg(q1)\n",
    "    qcirc.h(q1)\n",
    "    qcirc.tdg(q1)\n",
    "    qcirc.cx(q2, q1)\n",
    "    qcirc.t(q1)\n",
    "    qcirc.h(q1)\n",
    "    qcirc.s(q1)\n",
    "    ####################\n",
    "    qcirc.cx(q1, q2)\n",
    "    qcirc.cz(q1, q2)\n",
    "    qcirc.barrier()\n",
    "    return qcirc\n",
    "\n",
    "def digit_sum(n):\n",
    "    num_str = str(n)\n",
    "    sum = 0\n",
    "    for i in range(0, len(num_str)):\n",
    "        sum += int(num_str[i])\n",
    "    return sum\n",
    "\n",
    "def ground_state(lamb, backend_name): # backend is now an imput, so we can plot \n",
    "                                      # different ones easily - Bruna\n",
    "    qc = QuantumCircuit(4, 4)\n",
    "    #Set correct ground state if lambda < 1\n",
    "    if lamb < 1:\n",
    "        qc.x(3)\n",
    "        qc.barrier()\n",
    "    #magnetization\n",
    "    mag = []\n",
    "    \n",
    "    #Apply disentangling gates\n",
    "    qc = bog(qc, 0, 1, thetak(1.,lamb))\n",
    "    qc = fourier(qc, 0, 1, 2*np.pi/n)\n",
    "    qc = fourier(qc, 2, 3, 0.)\n",
    "    qc = fourier(qc, 0, 1, 0.)\n",
    "    qc = fourier(qc, 2, 3, 0.)\n",
    "    #Set measurement step\n",
    "    for i in range(0,4):\n",
    "        qc.measure(i,i)\n",
    "        \n",
    "    backend = Aer.get_backend(backend_name)\n",
    "    shots = 1024\n",
    "    max_credits = 10 #Max number of credits to spend on execution\n",
    "    job = execute(qc, backend=backend, shots=shots, max_credits=max_credits)\n",
    "    job_monitor(job)\n",
    "    result = job.result()\n",
    "    counts = result.get_counts(qc)\n",
    "    ##while not '0000' in counts:\n",
    "    #    job = execute(qc, backend=backend, shots=shots, max_credits=max_credits)\n",
    "    #    job_monitor(job)\n",
    "    #    result = job.result()\n",
    "    #    counts = result.get_counts(qc)\n",
    "    #Check what ground state is based on lambda\n",
    "    \n",
    "    r1=list(counts.keys())\n",
    "    r2=list(counts.values())\n",
    "    M=0\n",
    "    for j in range(0,len(r1)):\n",
    "        M=M+(4-2*digit_sum(r1[j]))*r2[j]/shots\n",
    "    #print(\"$\\lambda$: \",lam,\", $<\\sigma_{z}>$: \",M/4)\n",
    "    mag.append(M/4)\n",
    "    return mag\n",
    "    \n",
    "   # if lamb < 1:\n",
    "   #     return counts['0001']\n",
    "   # return counts['0000']/shots # it does not always works, sometimes it returns keyword error \n",
    "                                # maybe we can add another else for the possibility of other states, but \n",
    "                                # do not use it for plotting - Bruna\n",
    "\n",
    "\n",
    "print(ground_state(lambd, 'qasm_simulator'))\n",
    "\n",
    "#print(ground_state(.8,'statevector_simulator'))"
   ]
  },
  {
   "cell_type": "code",
   "execution_count": 4,
   "metadata": {},
   "outputs": [
    {
     "name": "stdout",
     "output_type": "stream",
     "text": [
      "Job Status: job has successfully run\n",
      "Job Status: job has successfully run\n",
      "Job Status: job has successfully run\n",
      "Job Status: job has successfully run\n",
      "Job Status: job has successfully run\n",
      "Job Status: job has successfully run\n",
      "Job Status: job has successfully run\n",
      "Job Status: job has successfully run\n",
      "Job Status: job has successfully run\n",
      "Job Status: job has successfully run\n",
      "Job Status: job has successfully run\n",
      "Job Status: job has successfully run\n",
      "Job Status: job has successfully run\n",
      "Job Status: job has successfully run\n",
      "Job Status: job has successfully run\n",
      "Job Status: job has successfully run\n",
      "[[0.083984375], [0.15234375], [0.17578125], [0.251953125], [0.25390625], [0.2841796875], [0.32421875], [0.3291015625], [0.845703125], [0.8759765625], [0.892578125], [0.8896484375], [0.8974609375], [0.9267578125], [0.9228515625], [0.931640625]]\n"
     ]
    }
   ],
   "source": [
    "lmbd = np.arange(.2, 1.75, 0.1)\n",
    "sigmaz = []\n",
    "for l in lmbd:\n",
    "    sigmaz.append(ground_state(l, 'qasm_simulator'))\n",
    "    \n",
    "print(sigmaz)\n",
    "\n"
   ]
  },
  {
   "cell_type": "code",
   "execution_count": 9,
   "metadata": {},
   "outputs": [
    {
     "data": {
      "text/plain": [
       "(0.0, 1.8)"
      ]
     },
     "execution_count": 9,
     "metadata": {},
     "output_type": "execute_result"
    },
    {
     "data": {
      "image/png": "[encoded data removed]",
      "text/plain": [
       "<Figure size 432x288 with 1 Axes>"
      ]
     },
     "metadata": {
      "needs_background": "light"
     },
     "output_type": "display_data"
    }
   ],
   "source": [
    "\n",
    "plt.plot(lmbd, sigmaz,'bo')\n",
    "plt.ylabel(\"$\\sigma_z$\")\n",
    "plt.xlabel(\"$\\lambda$\")\n",
    "plt.ylim(0., 1.1)\n",
    "plt.xlim(0., 1.8)"
   ]
  },
  {
   "cell_type": "markdown",
   "metadata": {},
   "source": [
    "$ \\newcommand{\\ket}[1]{\\left|{#1}\\right\\rangle}$\n",
    "$ \\newcommand{\\bra}[1]{\\left\\langle{#1}\\right|}$\n",
    "$$ \\newcommand{\\braket}[2]{\\left\\langle{#1}\\middle|{#2}\\right\\rangle}$$\n",
    "\n",
    "The following code initializes the state to $ \\ket{0000}  $ and $\\ket{ 1100} $. It then applies the disentangling gates specified above using the backend of choice. The counts are plotted as a histogram."
   ]
  },
  {
   "cell_type": "code",
   "execution_count": 7,
   "metadata": {},
   "outputs": [
    {
     "name": "stdout",
     "output_type": "stream",
     "text": [
      "Job Status: job has successfully run\n"
     ]
    },
    {
     "data": {
      "image/png": "[encoded data removed]",
      "text/plain": [
       "<Figure size 504x360 with 1 Axes>"
      ]
     },
     "execution_count": 7,
     "metadata": {},
     "output_type": "execute_result"
    }
   ],
   "source": [
    "#Start up and initialize circuit\n",
    "#Measurement\n",
    "qc = QuantumCircuit(4, 4)\n",
    "    #Set correct ground state if lambda < 1\n",
    "if lambd < 1:\n",
    "    qc.x(3)\n",
    "    qc.barrier()\n",
    "\n",
    "    #Apply disentangling gates\n",
    "qc = bog(qc, 0, 1, thetak(1.,1.2))\n",
    "qc = fourier(qc, 0, 1, 2*np.pi/n)\n",
    "qc = fourier(qc, 2, 3, 0.)\n",
    "qc = fourier(qc, 0, 1, 0.)\n",
    "qc = fourier(qc, 2, 3, 0.)\n",
    "    #Set measurement step\n",
    "for i in range(0,4):\n",
    "    qc.measure(i,i)\n",
    "    \n",
    "\n",
    "    \n",
    "    #Choose provider and backend\n",
    "#provider = IBMQ.get_provider()\n",
    "#provider = AerProvider()\n",
    "#backend = Aer.get_backend('statevector_simulator')\n",
    "backend = Aer.get_backend('qasm_simulator')\n",
    "#backend = provider.get_backend('ibmq_qasm_simulator')\n",
    "#backend = provider.get_backend('ibmqx4')\n",
    "#backend = provider.get_backend('ibmqx2')\n",
    "#backend = provider.get_backend('ibmq_16_melbourne')\n",
    "\n",
    "shots = 1024\n",
    "max_credits = 10 #Max number of credits to spend on execution\n",
    "job = execute(qc, backend=backend, shots=shots, max_credits=max_credits)  \n",
    "job_monitor(job)\n",
    "result = job.result()\n",
    "counts = result.get_counts(qc)\n",
    "#print(counts['0000'])\n",
    "plot_histogram(counts)\n",
    "\n",
    "# had to comment this part because qc is a local variable in groundstate function now - Bruna"
   ]
  },
  {
   "cell_type": "code",
   "execution_count": 8,
   "metadata": {},
   "outputs": [
    {
     "name": "stdout",
     "output_type": "stream",
     "text": [
      "|0000> probability should be:  0.8841106397986879\n",
      "|0011> probability should be:  0.11588936020131207\n"
     ]
    }
   ],
   "source": [
    "phi = np.arccos(lambd/np.sqrt(1+lambd**2))/2\n",
    "#print(result.get_statevector(qc))\n",
    "print(\"|0000> probability should be: \",np.cos(phi)**2)\n",
    "print(\"|0011> probability should be: \",np.sin(phi)**2 )"
   ]
  },
  {
   "cell_type": "code",
   "execution_count": 9,
   "metadata": {},
   "outputs": [],
   "source": [
    "#print(counts['0000'])"
   ]
  },
  {
   "cell_type": "markdown",
   "metadata": {},
   "source": [
    "# lets try the time evolution\n",
    "\n",
    "$\\newcommand{\\bra}[1]{\\left\\langle{#1}\\right|}$\n",
    "$$\\newcommand{\\braket}[2]{\\left\\langle{#1}\\middle|{#2}\\right\\rangle}$$\n",
    "\n",
    "Steps (as listed in the tutorial):\n",
    "\n",
    " - 1) choose an initial state in computational basis\n",
    " - 2) apply time evolution operator $e^{-H_{comp}}t$ to the initial state. \n",
    "\n",
    "\\begin{equation} e^{-H_{comp}t} \\ket{\\Psi(t)} = e^{2it(\\lambda + \\sqrt{1 +\\lambda^2})} \\big ( \\cos{\\phi} \\ket{00} + ie^{4it\\sqrt{1 + \\lambda^2}}\\sin{phi} \\ket{11} \\big ) \\otimes \\ket{00}\n",
    "\\end{equation}\n",
    "\n",
    "to do this we use a U3 gate defined as \n",
    "\n",
    "\\begin{equation} U3(a, b, c) = \\begin{bmatrix}  \\cos{a} & e^{-ic}\\sin{a \\over 2} \\\\ e^{-ib}\\sin{a \\over 2} & e^{i(b+c)}\\cos{a \\over 2} \\end{bmatrix}\\end{equation}\n",
    "\n",
    "\n",
    "overall phase is arbitrary \n",
    "\n",
    "$$ a = \\phi = {\\cos({\\lambda \\over \\sqrt{1 +\\lambda^2}})^{-1} \\over 2}  $$\n",
    "and \n",
    "$ b = {\\pi \\over 2} + 4t\\sqrt{1 +\\lambda^2} $ for some reason and finally\n",
    "$c = 0$\n",
    "\n",
    "  - 3) apply disentangle gate. a.k.a apply our ground_state function to see what the ground state is at some time t>0\n",
    "  - 4) then plot for multiple times"
   ]
  },
  {
   "cell_type": "code",
   "execution_count": 12,
   "metadata": {},
   "outputs": [
    {
     "name": "stderr",
     "output_type": "stream",
     "text": [
      "C:\\Users\\mattm\\Anaconda3\\lib\\site-packages\\ipykernel_launcher.py:7: DeprecationWarning: The QuantumCircuit.u3 method is deprecated as of 0.16.0. It will be removed no earlier than 3 months after the release date. You should use QuantumCircuit.u instead, which acts identically. Alternatively, you can decompose u3 in terms of QuantumCircuit.p and QuantumCircuit.sx: u3(ϴ,φ,λ) = p(φ+π) sx p(ϴ+π) sx p(λ) (2 pulses on hardware).\n",
      "  import sys\n"
     ]
    },
    {
     "name": "stdout",
     "output_type": "stream",
     "text": [
      "Job Status: job has successfully run\n",
      "Job Status: job has successfully run\n",
      "Job Status: job has successfully run\n",
      "Job Status: job has successfully run\n",
      "Job Status: job has successfully run\n",
      "Job Status: job has successfully run\n",
      "Job Status: job has successfully run\n",
      "Job Status: job has successfully run\n",
      "Job Status: job has successfully run\n",
      "Job Status: job has successfully run\n"
     ]
    }
   ],
   "source": [
    "\n",
    "\n",
    "def Time_Evo(t, lamb, backend_name):\n",
    "    quc = QuantumCircuit(4, 4)\n",
    "    \n",
    "    #step 1. we are already in the |111> state\n",
    "        \n",
    "    # time evolution of computational basis, step 2\n",
    "    quc.u3(np.arccos(lamb/np.sqrt(1+lamb**2)), np.pi/2 + 4*t*np.sqrt(1+lamb**2),0,0)\n",
    "    quc.cx(0,1)\n",
    "    \n",
    "\n",
    "    #magnetization\n",
    "    mag = []\n",
    "    #step 3\n",
    "    #Apply disentangling gates\n",
    "    quc = bog(quc, 0, 1, thetak(1.,lamb))\n",
    "    quc = fourier(quc, 0, 1, 2*np.pi/n)\n",
    "    quc = fourier(quc, 2, 3, 0.)\n",
    "    quc = fourier(quc, 0, 1, 0.)\n",
    "    quc = fourier(quc, 2, 3, 0.)\n",
    "    #Set measurement step\n",
    "    for i in range(0,4):\n",
    "        quc.measure(i,i)\n",
    "        \n",
    "    \n",
    "    #provider = IBMQ.get_provider(hub='ibm-q', group='open', project='main')\n",
    "    backend = provider.get_backend(backend_name)\n",
    "    #backend = Aer.get_backend('statevector_simulator')\n",
    "    #backend = Aer.get_backend('qasm_simulator')\n",
    "    #backend = provider.get_backend('ibmq_qasm_simulator')\n",
    "    #backend = provider.get_backend('ibmqx4')\n",
    "    #backend = provider.get_backend('ibmqx2')\n",
    "    #backend = provider.get_backend('ibmq_16_melbourne')\n",
    "    shots = 1024\n",
    "    max_credits = 10 #Max number of credits to spend on execution\n",
    "    job = execute(quc, backend=backend, shots=shots, max_credits=max_credits)\n",
    "    job_monitor(job)\n",
    "    result = job.result()\n",
    "    counts = result.get_counts(quc)\n",
    "    ##while not '0000' in counts:\n",
    "    #    job = execute(qc, backend=backend, shots=shots, max_credits=max_credits)\n",
    "    #    job_monitor(job)\n",
    "    #    result = job.result()\n",
    "    #    counts = result.get_counts(qc)\n",
    "    #Check what ground state is based on lambda\n",
    "    \n",
    "    r1=list(counts.keys())\n",
    "    r2=list(counts.values())\n",
    "    M=0\n",
    "    for j in range(0,len(r1)):\n",
    "        M=M+(4-2*digit_sum(r1[j]))*r2[j]/shots\n",
    "    #print(\"$\\lambda$: \",lam,\", $<\\sigma_{z}>$: \",M/4)\n",
    "    mag.append(M/4)\n",
    "    return mag\n",
    "\n",
    "#f = Time_Evo(qc,1,lambd,'qasm_simulator')\n",
    "#print(f)\n",
    "\n",
    "#\n",
    "ti = 0\n",
    "tf = 2\n",
    "time = np.arange(ti,tf,(tf-ti)/10)\n",
    "f = []\n",
    "for t in time:\n",
    "    f.append(Time_Evo(t,0.5,'ibmq_athens'))\n",
    "    "
   ]
  },
  {
   "cell_type": "code",
   "execution_count": 11,
   "metadata": {},
   "outputs": [
    {
     "ename": "NameError",
     "evalue": "name 'time' is not defined",
     "output_type": "error",
     "traceback": [
      "\u001b[1;31m---------------------------------------------------------------------------\u001b[0m",
      "\u001b[1;31mNameError\u001b[0m                                 Traceback (most recent call last)",
      "\u001b[1;32m<ipython-input-11-e48d7caa240c>\u001b[0m in \u001b[0;36m<module>\u001b[1;34m\u001b[0m\n\u001b[0;32m      1\u001b[0m \u001b[1;31m#step 4\u001b[0m\u001b[1;33m\u001b[0m\u001b[1;33m\u001b[0m\u001b[1;33m\u001b[0m\u001b[0m\n\u001b[1;32m----> 2\u001b[1;33m \u001b[0mplt\u001b[0m\u001b[1;33m.\u001b[0m\u001b[0mplot\u001b[0m\u001b[1;33m(\u001b[0m\u001b[0mtime\u001b[0m\u001b[1;33m,\u001b[0m \u001b[0mf\u001b[0m\u001b[1;33m)\u001b[0m\u001b[1;33m\u001b[0m\u001b[1;33m\u001b[0m\u001b[0m\n\u001b[0m\u001b[0;32m      3\u001b[0m \u001b[0mplt\u001b[0m\u001b[1;33m.\u001b[0m\u001b[0mylim\u001b[0m\u001b[1;33m(\u001b[0m\u001b[1;36m0.\u001b[0m\u001b[1;33m,\u001b[0m \u001b[1;36m1\u001b[0m\u001b[1;33m)\u001b[0m\u001b[1;33m\u001b[0m\u001b[1;33m\u001b[0m\u001b[0m\n\u001b[0;32m      4\u001b[0m \u001b[0mplt\u001b[0m\u001b[1;33m.\u001b[0m\u001b[0mxlim\u001b[0m\u001b[1;33m(\u001b[0m\u001b[1;36m0.\u001b[0m\u001b[1;33m,\u001b[0m \u001b[1;36m1.8\u001b[0m\u001b[1;33m)\u001b[0m\u001b[1;33m\u001b[0m\u001b[1;33m\u001b[0m\u001b[0m\n\u001b[0;32m      5\u001b[0m \u001b[0mplt\u001b[0m\u001b[1;33m.\u001b[0m\u001b[0mylabel\u001b[0m\u001b[1;33m(\u001b[0m\u001b[1;34m\"Magnetization\"\u001b[0m\u001b[1;33m)\u001b[0m\u001b[1;33m\u001b[0m\u001b[1;33m\u001b[0m\u001b[0m\n",
      "\u001b[1;31mNameError\u001b[0m: name 'time' is not defined"
     ]
    }
   ],
   "source": [
    "#step 4\n",
    "plt.plot(time, f)\n",
    "plt.ylim(0., 1)\n",
    "plt.xlim(0., 1.8)\n",
    "plt.ylabel(\"Magnetization\")\n",
    "plt.xlabel(\"t\")\n",
    "plt.show()"
   ]
  },
  {
   "cell_type": "code",
   "execution_count": null,
   "metadata": {},
   "outputs": [],
   "source": []
  }
 ],
 "metadata": {
  "kernelspec": {
   "display_name": "Python 3",
   "language": "python",
   "name": "python3"
  },
  "language_info": {
   "codemirror_mode": {
    "name": "ipython",
    "version": 3
   },
   "file_extension": ".py",
   "mimetype": "text/x-python",
   "name": "python",
   "nbconvert_exporter": "python",
   "pygments_lexer": "ipython3",
   "version": "3.7.3"
  }
 },
 "nbformat": 4,
 "nbformat_minor": 4
}
