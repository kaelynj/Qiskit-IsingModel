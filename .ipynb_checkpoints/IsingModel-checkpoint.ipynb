{
 "cells": [
  {
   "cell_type": "code",
   "execution_count": 8,
   "metadata": {},
   "outputs": [
    {
     "name": "stdout",
     "output_type": "stream",
     "text": [
      "Job Status: job has successfully run\n",
      "[0.8759765625]\n"
     ]
    }
   ],
   "source": [
    "%reset -f\n",
    "#%matplotlib inline\n",
    "# Importing standard Qiskit libraries and configuring account\n",
    "from qiskit import QuantumCircuit, execute, Aer, IBMQ, QuantumRegister\n",
    "from qiskit.providers.aer import QasmSimulator, StatevectorSimulator, UnitarySimulator\n",
    "from qiskit.compiler import transpile, assemble\n",
    "from qiskit.tools.monitor import job_monitor\n",
    "import matplotlib.pyplot as plt\n",
    "from qiskit.tools.jupyter import *\n",
    "from qiskit.visualization import *\n",
    "from qiskit.quantum_info import *\n",
    "import numpy as np\n",
    "#provider = IBMQ.load_account()\n",
    "\n",
    "    \n",
    "# Loading your IBM Q account(s)\n",
    "#provider = IBMQ.load_account()\n",
    "\n",
    "#constants\n",
    "n = 4\n",
    "lambd = 1.2\n",
    "\n",
    "def thetak(k,lamb):\n",
    "    num = lamb - np.cos(2*np.pi*k/n)\n",
    "    denom = np.sqrt( (lamb-np.cos(2*np.pi*k/n))**2 + np.sin(2*np.pi*k/n)**2)\n",
    "    theta = np.arccos(num/denom)\n",
    "    return theta\n",
    "\n",
    "#Create functions based on the decomposition included in appendix of Ising paper\n",
    "def bog(qcirc, q1, q2, theta):\n",
    "    qcirc.x(q2)\n",
    "    qcirc.cx(q2, q1)\n",
    "    #Controlled RX gate\n",
    "    qcirc.rz(np.pi/2, q2)\n",
    "    qcirc.ry(theta/2, q2)\n",
    "    qcirc.cx(q1, q2)\n",
    "    qcirc.ry(-theta/2, q2)\n",
    "    qcirc.cx(q1, q2) #changed from qc to qcirc here - Bruna\n",
    "    qcirc.rz(-np.pi/2, q2)\n",
    "    #####################\n",
    "    qcirc.cx(q2, q1)\n",
    "    qcirc.x(q2)\n",
    "    qcirc.barrier()\n",
    "    return qcirc\n",
    "    \n",
    "def fourier(qcirc, q1, q2, phase):\n",
    "    qcirc.rz(phase, q1)\n",
    "    qcirc.cx(q1, q2)\n",
    "    #Controlled Hadamard\n",
    "    qcirc.sdg(q1)\n",
    "    qcirc.h(q1)\n",
    "    qcirc.tdg(q1)\n",
    "    qcirc.cx(q2, q1)\n",
    "    qcirc.t(q1)\n",
    "    qcirc.h(q1)\n",
    "    qcirc.s(q1)\n",
    "    ####################\n",
    "    qcirc.cx(q1, q2)\n",
    "    qcirc.cz(q1, q2)\n",
    "    qcirc.barrier()\n",
    "    return qcirc\n",
    "\n",
    "def digit_sum(n):\n",
    "    num_str = str(n)\n",
    "    sum = 0\n",
    "    for i in range(0, len(num_str)):\n",
    "        sum += int(num_str[i])\n",
    "    return sum\n",
    "\n",
    "def ground_state(lamb, backend_name): # backend is now an imput, so we can plot \n",
    "                                      # different ones easily - Bruna\n",
    "    qc = QuantumCircuit(4, 4)\n",
    "    #Set correct ground state if lambda < 1\n",
    "    if lamb < 1:\n",
    "        qc.x(3)\n",
    "        qc.barrier()\n",
    "    #magnetization\n",
    "    mag = []\n",
    "    \n",
    "    #Apply disentangling gates\n",
    "    qc = bog(qc, 0, 1, thetak(1.,lamb))\n",
    "    qc = fourier(qc, 0, 1, 2*np.pi/n)\n",
    "    qc = fourier(qc, 2, 3, 0.)\n",
    "    qc = fourier(qc, 0, 1, 0.)\n",
    "    qc = fourier(qc, 2, 3, 0.)\n",
    "    #Set measurement step\n",
    "    for i in range(0,4):\n",
    "        qc.measure(i,i)\n",
    "        \n",
    "    backend = Aer.get_backend(backend_name)\n",
    "    shots = 1024\n",
    "    max_credits = 10 #Max number of credits to spend on execution\n",
    "    job = execute(qc, backend=backend, shots=shots, max_credits=max_credits)\n",
    "    job_monitor(job)\n",
    "    result = job.result()\n",
    "    counts = result.get_counts(qc)\n",
    "    ##while not '0000' in counts:\n",
    "    #    job = execute(qc, backend=backend, shots=shots, max_credits=max_credits)\n",
    "    #    job_monitor(job)\n",
    "    #    result = job.result()\n",
    "    #    counts = result.get_counts(qc)\n",
    "    #Check what ground state is based on lambda\n",
    "    \n",
    "    r1=list(counts.keys())\n",
    "    r2=list(counts.values())\n",
    "    M=0\n",
    "    for j in range(0,len(r1)):\n",
    "        M=M+(4-2*digit_sum(r1[j]))*r2[j]/shots\n",
    "    #print(\"$\\lambda$: \",lam,\", $<\\sigma_{z}>$: \",M/4)\n",
    "    mag.append(M/4)\n",
    "    return mag\n",
    "    \n",
    "   # if lamb < 1:\n",
    "   #     return counts['0001']\n",
    "   # return counts['0000']/shots # it does not always works, sometimes it returns keyword error \n",
    "                                # maybe we can add another else for the possibility of other states, but \n",
    "                                # do not use it for plotting - Bruna\n",
    "\n",
    "\n",
    "print(ground_state(lambd, 'qasm_simulator'))\n",
    "\n",
    "#print(ground_state(.8,'statevector_simulator'))"
   ]
  },
  {
   "cell_type": "code",
   "execution_count": 13,
   "metadata": {},
   "outputs": [
    {
     "name": "stdout",
     "output_type": "stream",
     "text": [
      "Job Status: job has successfully run\n",
      "Job Status: job has successfully run\n",
      "Job Status: job has successfully run\n",
      "Job Status: job has successfully run\n",
      "Job Status: job has successfully run\n",
      "Job Status: job has successfully run\n",
      "Job Status: job has successfully run\n",
      "Job Status: job has successfully run\n",
      "Job Status: job has successfully run\n",
      "Job Status: job has successfully run\n",
      "Job Status: job has successfully run\n",
      "Job Status: job has successfully run\n",
      "Job Status: job has successfully run\n",
      "Job Status: job has successfully run\n",
      "Job Status: job has successfully run\n",
      "Job Status: job has successfully run\n",
      "[[0.1005859375], [0.1435546875], [0.19140625], [0.240234375], [0.265625], [0.3056640625], [0.330078125], [0.326171875], [0.84765625], [0.857421875], [0.892578125], [0.8984375], [0.9111328125], [0.9248046875], [0.9306640625], [0.9296875]]\n"
     ]
    }
   ],
   "source": [
    "lmbd = np.arange(.2, 1.75, 0.1)\n",
    "sigmaz = []\n",
    "for l in lmbd:\n",
    "    sigmaz.append(ground_state(l, 'qasm_simulator'))\n",
    "    \n",
    "print(sigmaz)\n",
    "\n"
   ]
  },
  {
   "cell_type": "code",
   "execution_count": 14,
   "metadata": {},
   "outputs": [
    {
     "data": {
      "text/plain": [
       "(0.0, 1.8)"
      ]
     },
     "execution_count": 14,
     "metadata": {},
     "output_type": "execute_result"
    },
    {
     "data": {
      "image/png": "[encoded data removed]",
      "text/plain": [
       "<Figure size 432x288 with 1 Axes>"
      ]
     },
     "metadata": {
      "needs_background": "light"
     },
     "output_type": "display_data"
    }
   ],
   "source": [
    "plt.plot(lmbd, sigmaz,'bo')\n",
    "plt.ylim(0., 1.1)\n",
    "plt.xlim(0., 1.8)"
   ]
  },
  {
   "cell_type": "markdown",
   "metadata": {},
   "source": [
    "$ \\newcommand{\\ket}[1]{\\left|{#1}\\right\\rangle}$\n",
    "$ \\newcommand{\\bra}[1]{\\left\\langle{#1}\\right|}$\n",
    "$$ \\newcommand{\\braket}[2]{\\left\\langle{#1}\\middle|{#2}\\right\\rangle}$$\n",
    "\n",
    "when it comes to implementation:  \n",
    "first try to run circuit on simulator \n",
    "second try to run on real hardware\n",
    "\n",
    "long term goal is reproduce figures 5 (Ground state of a spin chain)and 6 (time evolution of operator $\\sigma_z$) \n",
    "\n",
    "short term goal is initialize the state to  $ \\ket{0000}  $ and $\\ket{ 1100} $"
   ]
  },
  {
   "cell_type": "code",
   "execution_count": 15,
   "metadata": {},
   "outputs": [
    {
     "ename": "TypeError",
     "evalue": "thetak() missing 1 required positional argument: 'lamb'",
     "output_type": "error",
     "traceback": [
      "\u001b[1;31m---------------------------------------------------------------------------\u001b[0m",
      "\u001b[1;31mTypeError\u001b[0m                                 Traceback (most recent call last)",
      "\u001b[1;32m<ipython-input-15-92a3bcf0c720>\u001b[0m in \u001b[0;36m<module>\u001b[1;34m\u001b[0m\n\u001b[0;32m      8\u001b[0m \u001b[1;33m\u001b[0m\u001b[0m\n\u001b[0;32m      9\u001b[0m     \u001b[1;31m#Apply disentangling gates\u001b[0m\u001b[1;33m\u001b[0m\u001b[1;33m\u001b[0m\u001b[1;33m\u001b[0m\u001b[0m\n\u001b[1;32m---> 10\u001b[1;33m \u001b[0mqc\u001b[0m \u001b[1;33m=\u001b[0m \u001b[0mbog\u001b[0m\u001b[1;33m(\u001b[0m\u001b[0mqc\u001b[0m\u001b[1;33m,\u001b[0m \u001b[1;36m0\u001b[0m\u001b[1;33m,\u001b[0m \u001b[1;36m1\u001b[0m\u001b[1;33m,\u001b[0m \u001b[0mthetak\u001b[0m\u001b[1;33m(\u001b[0m\u001b[1;36m1.\u001b[0m\u001b[1;33m)\u001b[0m\u001b[1;33m)\u001b[0m\u001b[1;33m\u001b[0m\u001b[1;33m\u001b[0m\u001b[0m\n\u001b[0m\u001b[0;32m     11\u001b[0m \u001b[0mqc\u001b[0m \u001b[1;33m=\u001b[0m \u001b[0mfourier\u001b[0m\u001b[1;33m(\u001b[0m\u001b[0mqc\u001b[0m\u001b[1;33m,\u001b[0m \u001b[1;36m0\u001b[0m\u001b[1;33m,\u001b[0m \u001b[1;36m1\u001b[0m\u001b[1;33m,\u001b[0m \u001b[1;36m2\u001b[0m\u001b[1;33m*\u001b[0m\u001b[0mnp\u001b[0m\u001b[1;33m.\u001b[0m\u001b[0mpi\u001b[0m\u001b[1;33m/\u001b[0m\u001b[0mn\u001b[0m\u001b[1;33m)\u001b[0m\u001b[1;33m\u001b[0m\u001b[1;33m\u001b[0m\u001b[0m\n\u001b[0;32m     12\u001b[0m \u001b[0mqc\u001b[0m \u001b[1;33m=\u001b[0m \u001b[0mfourier\u001b[0m\u001b[1;33m(\u001b[0m\u001b[0mqc\u001b[0m\u001b[1;33m,\u001b[0m \u001b[1;36m2\u001b[0m\u001b[1;33m,\u001b[0m \u001b[1;36m3\u001b[0m\u001b[1;33m,\u001b[0m \u001b[1;36m0.\u001b[0m\u001b[1;33m)\u001b[0m\u001b[1;33m\u001b[0m\u001b[1;33m\u001b[0m\u001b[0m\n",
      "\u001b[1;31mTypeError\u001b[0m: thetak() missing 1 required positional argument: 'lamb'"
     ]
    }
   ],
   "source": [
    "#Start up and initialize circuit\n",
    "#Measurement\n",
    "qc = QuantumCircuit(4, 4)\n",
    "    #Set correct ground state if lambda < 1\n",
    "if lambd < 1:\n",
    "    qc.x(3)\n",
    "    qc.barrier()\n",
    "\n",
    "    #Apply disentangling gates\n",
    "qc = bog(qc, 0, 1, thetak(1.))\n",
    "qc = fourier(qc, 0, 1, 2*np.pi/n)\n",
    "qc = fourier(qc, 2, 3, 0.)\n",
    "qc = fourier(qc, 0, 1, 0.)\n",
    "qc = fourier(qc, 2, 3, 0.)\n",
    "    #Set measurement step\n",
    "for i in range(0,4):\n",
    "    qc.measure(i,i)\n",
    "    \n",
    "\n",
    "    \n",
    "    #Choose provider and backend\n",
    "#provider = IBMQ.get_provider()\n",
    "#provider = AerProvider()\n",
    "#backend = Aer.get_backend('statevector_simulator')\n",
    "backend = Aer.get_backend('qasm_simulator')\n",
    "#backend = provider.get_backend('ibmq_qasm_simulator')\n",
    "#backend = provider.get_backend('ibmqx4')\n",
    "#backend = provider.get_backend('ibmqx2')\n",
    "#backend = provider.get_backend('ibmq_16_melbourne')\n",
    "\n",
    "shots = 1024\n",
    "max_credits = 10 #Max number of credits to spend on execution\n",
    "job = execute(qc, backend=backend, shots=shots, max_credits=max_credits)  \n",
    "job_monitor(job)\n",
    "result = job.result()\n",
    "counts = result.get_counts(qc)\n",
    "#print(counts['0000'])\n",
    "plot_histogram(counts)\n",
    "\n",
    " # had to comment this part because qc is a local variable in groundstate function now - Bruna"
   ]
  },
  {
   "cell_type": "code",
   "execution_count": null,
   "metadata": {},
   "outputs": [],
   "source": [
    "phi = np.arccos(lambd/np.sqrt(1+lambd**2))/2\n",
    "#print(result.get_statevector(qc))\n",
    "print(\"|0000> probability should be: \",np.cos(phi)**2)\n",
    "print(\"|0011> probability should be: \",np.sin(phi)**2 )"
   ]
  },
  {
   "cell_type": "code",
   "execution_count": null,
   "metadata": {},
   "outputs": [],
   "source": [
    "#print(counts['0000'])"
   ]
  },
  {
   "cell_type": "code",
   "execution_count": null,
   "metadata": {},
   "outputs": [],
   "source": []
  }
 ],
 "metadata": {
  "kernelspec": {
   "display_name": "Python 3",
   "language": "python",
   "name": "python3"
  },
  "language_info": {
   "codemirror_mode": {
    "name": "ipython",
    "version": 3
   },
   "file_extension": ".py",
   "mimetype": "text/x-python",
   "name": "python",
   "nbconvert_exporter": "python",
   "pygments_lexer": "ipython3",
   "version": "3.7.3"
  }
 },
 "nbformat": 4,
 "nbformat_minor": 4
}
