{
 "cells": [
  {
   "cell_type": "code",
<<<<<<< HEAD
   "execution_count": 1,
   "metadata": {},
   "outputs": [
    {
     "name": "stdout",
     "output_type": "stream",
     "text": [
      "\r",
      "Job Status: job has successfully run\n",
      "0.0009765625\n"
     ]
=======
   "execution_count": 2,
   "metadata": {},
   "outputs": [
    {
     "data": {
      "text/html": [
       "<pre style=\"word-wrap: normal;white-space: pre;background: #fff0;line-height: 1.1;font-family: &quot;Courier New&quot;,Courier,monospace\">     ┌─────────┐┌─────────┐          ┌─────────┐          \n",
       "q_0: ┤0        ├┤0        ├──────────┤0        ├──────────\n",
       "     │  B1_dag ││  F1_dag │┌────────┐│  F0_dag │┌────────┐\n",
       "q_1: ┤1        ├┤1        ├┤0       ├┤1        ├┤0       ├\n",
       "     ├─────────┤└─────────┘│  fSWAP │├─────────┤│  fSWAP │\n",
       "q_2: ┤0        ├───────────┤1       ├┤0        ├┤1       ├\n",
       "     │  F0_dag │           └────────┘│  F0_dag │└────────┘\n",
       "q_3: ┤1        ├─────────────────────┤1        ├──────────\n",
       "     └─────────┘                     └─────────┘          </pre>"
      ],
      "text/plain": [
       "     ┌─────────┐┌─────────┐          ┌─────────┐          \n",
       "q_0: ┤0        ├┤0        ├──────────┤0        ├──────────\n",
       "     │  B1_dag ││  F1_dag │┌────────┐│  F0_dag │┌────────┐\n",
       "q_1: ┤1        ├┤1        ├┤0       ├┤1        ├┤0       ├\n",
       "     ├─────────┤└─────────┘│  fSWAP │├─────────┤│  fSWAP │\n",
       "q_2: ┤0        ├───────────┤1       ├┤0        ├┤1       ├\n",
       "     │  F0_dag │           └────────┘│  F0_dag │└────────┘\n",
       "q_3: ┤1        ├─────────────────────┤1        ├──────────\n",
       "     └─────────┘                     └─────────┘          "
      ]
     },
     "execution_count": 2,
     "metadata": {},
     "output_type": "execute_result"
>>>>>>> parent of 42a69b2 (Merge pull request #1 from kaelynj/master)
    }
   ],
   "source": [
    "%reset -f\n",
    "#%matplotlib inline\n",
    "# Importing standard Qiskit libraries and configuring account\n",
    "from qiskit import QuantumCircuit, execute, Aer, IBMQ, QuantumRegister\n",
    "from qiskit.compiler import transpile, assemble\n",
    "from qiskit.tools.jupyter import *\n",
    "from qiskit.visualization import *\n",
    "from qiskit.quantum_info import *\n",
    "import numpy as np\n",
    "\n",
    "\n",
    "    \n",
    "# Loading your IBM Q account(s)\n",
    "provider = IBMQ.load_account()\n",
    "\n",
    "#contants\n",
    "n = 1\n",
    "theta = 1\n",
    "\n",
    "#create quantum circuit\n",
    "qc = QuantumCircuit(4)\n",
    "\n",
<<<<<<< HEAD
    "#Create functions based on the decomposition included in appendix of Ising paper\n",
    "def bog(qcirc, q1, q2, theta):\n",
    "    qcirc.x(q2)\n",
    "    qcirc.cx(q2, q1)\n",
    "    #Controlled RX gate\n",
    "    qcirc.rz(np.pi/2, q2)\n",
    "    qcirc.ry(theta/2, q2)\n",
    "    qcirc.cx(q1, q2)\n",
    "    qcirc.ry(-theta/2, q2)\n",
    "    qcirc.cx(q1, q2) #changed from qc to qcirc here - Bruna\n",
    "    qcirc.rz(-np.pi/2, q2)\n",
    "    #####################\n",
    "    qcirc.cx(q2, q1)\n",
    "    qcirc.x(q2)\n",
    "    qcirc.barrier()\n",
    "    return qcirc\n",
    "    \n",
    "def fourier(qcirc, q1, q2, phase):\n",
    "    qcirc.rz(phase, q1)\n",
    "    qcirc.cx(q1, q2)\n",
    "    #Controlled Hadamard\n",
    "    qcirc.sdg(q1)\n",
    "    qcirc.h(q1)\n",
    "    qcirc.tdg(q1)\n",
    "    qcirc.cx(q2, q1)\n",
    "    qcirc.t(q1)\n",
    "    qcirc.h(q1)\n",
    "    qcirc.s(q1)\n",
    "    ####################\n",
    "    qcirc.cx(q1, q2)\n",
    "    qcirc.cz(q1, q2)\n",
    "    qcirc.barrier()\n",
    "    return qcirc\n",
=======
    "#create Quantum operators\n",
>>>>>>> parent of 42a69b2 (Merge pull request #1 from kaelynj/master)
    "\n",
    "F1_dag = Operator([\n",
    "    [1, 0, 0, 0],\n",
    "    [0, 1/np.sqrt(2), 1/np.sqrt(2), 0],\n",
    "    [0, 1/np.sqrt(2)*np.exp(-2*np.pi*1j), -1/np.sqrt(2)*np.exp(-2*np.pi*1j), 0],\n",
    "    [0, 0, 0, -np.exp(-2*np.pi*1j)]])\n",
    "\n",
<<<<<<< HEAD
    "def ground_state(lamb, backend_name): # backend is now an imput, so we can plot \n",
    "                                    # different ones easily - Bruna\n",
    "    qc = QuantumCircuit(4, 4)\n",
    "    #Set correct ground state if lambda < 1\n",
    "    if lambd < 1:\n",
    "        qc.x(3)\n",
    "        qc.barrier()\n",
    "\n",
    "    #Apply disentangling gates\n",
    "    qc = bog(qc, 0, 1, thetak(1.))\n",
    "    qc = fourier(qc, 0, 1, 2*np.pi/n)\n",
    "    qc = fourier(qc, 2, 3, 0.)\n",
    "    qc = fourier(qc, 0, 1, 0.)\n",
    "    qc = fourier(qc, 2, 3, 0.)\n",
    "    #Set measurement step\n",
    "    for i in range(0,4):\n",
    "        qc.measure(i,i)\n",
    "        \n",
    "    backend = Aer.get_backend(backend_name)\n",
    "    shots = 1024\n",
    "    max_credits = 10 #Max number of credits to spend on execution\n",
    "    job = execute(qc, backend=backend, shots=shots, max_credits=max_credits)\n",
    "    job_monitor(job)\n",
    "    result = job.result()\n",
    "    counts = result.get_counts(qc)\n",
    "    #Check what ground state is based on lambda\n",
    "    if lamb < 1:\n",
    "        return counts['0001']/shots\n",
    "    return counts['0000']/shots # it does not always works, sometimes it returns keyword error \n",
    "                                # maybe we can add another else for the possibility of other states, but \n",
    "                                # do not use it for plotting - Bruna\n",
    "\n",
    "\n",
    "\n",
    "print(ground_state(lambd, 'statevector_simulator'))\n",
    "\n"
   ]
  },
  {
   "cell_type": "code",
   "execution_count": 2,
   "metadata": {},
   "outputs": [
    {
     "name": "stdout",
     "output_type": "stream",
     "text": [
      "Job Status: job has successfully run\n",
      "Job Status: job has successfully run\n",
      "Job Status: job has successfully run\n",
      "Job Status: job has successfully run\n",
      "Job Status: job has successfully run\n",
      "Job Status: job has successfully run\n",
      "Job Status: job has successfully run\n",
      "Job Status: job has successfully run\n",
      "Job Status: job has successfully run\n",
      "Job Status: job has successfully run\n",
      "Job Status: job has successfully run\n",
      "[0.0009765625, 0.0009765625, 0.0009765625, 0.0009765625, 0.0009765625, 0.0009765625, 0.0009765625, 0.0009765625, 0.0009765625, 0.0009765625, 0.0009765625]\n"
     ]
    }
   ],
   "source": [
    "lmbd = np.arange(1.2, 1.75, 0.05)\n",
    "sigmaz = []\n",
    "for l in lmbd:\n",
    "    sigmaz.append(ground_state(l, 'statevector_simulator'))\n",
    "    \n",
    "print(sigmaz)\n",
    "\n"
   ]
  },
  {
   "cell_type": "code",
   "execution_count": 3,
   "metadata": {},
   "outputs": [
    {
     "data": {
      "text/plain": [
       "(0.0, 1.8)"
      ]
     },
     "execution_count": 3,
     "metadata": {},
     "output_type": "execute_result"
    },
    {
     "data": {
      "image/png": "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\n",
      "text/plain": [
       "<Figure size 432x288 with 1 Axes>"
      ]
     },
     "metadata": {
      "needs_background": "light"
     },
     "output_type": "display_data"
    }
   ],
   "source": [
    "plt.plot(lmbd, sigmaz)\n",
    "#plt.ylim(0., 1.)\n",
    "plt.xlim(0., 1.8)"
=======
    "F0_dag = Operator([\n",
    "    [1, 0, 0, 0],\n",
    "    [0, 1/np.sqrt(2), 1/np.sqrt(2), 0],\n",
    "    [0, 1/np.sqrt(2), -1/np.sqrt(2), 0],\n",
    "    [0, 0, 0, -1]])\n",
    "B1_dag = Operator([\n",
    "    [np.cos(theta/2), 0, 0, 1j*np.sin(theta/2)],\n",
    "    [0, 1, 0, 0],\n",
    "    [0, 0, 1, 0],\n",
    "    [ 1j*np.sin(theta/2),0,0,np.cos(theta/2)]])\n",
    "\n",
    "fswap = Operator([\n",
    "        [1,0,0,0],\n",
    "        [0,0,1,0],\n",
    "        [0,1,0,0],\n",
    "        [0,0,0,-1]\n",
    "])\n",
    "\n",
    "\n",
    "\n",
    "#Create quantum Gates\n",
    "qc.unitary(B1_dag, [0, 1], label='B1_dag')\n",
    "qc.unitary(F1_dag, [0, 1], label='F1_dag')\n",
    "qc.unitary(F0_dag, [2, 3], label='F0_dag')\n",
    "qc.unitary(fswap,[1,2],label ='fSWAP')\n",
    "qc.unitary(F0_dag, [0, 1], label='F0_dag')\n",
    "qc.unitary(F0_dag, [2, 3], label='F0_dag')\n",
    "qc.unitary(fswap,[1,2],label ='fSWAP')\n",
    "\n",
    "#display circuit\n",
    "qc.draw()\n"
>>>>>>> parent of 42a69b2 (Merge pull request #1 from kaelynj/master)
   ]
  },
  {
   "cell_type": "markdown",
   "metadata": {},
   "source": [
    "$ \\newcommand{\\ket}[1]{\\left|{#1}\\right\\rangle}$\n",
    "$ \\newcommand{\\bra}[1]{\\left\\langle{#1}\\right|}$\n",
    "$$ \\newcommand{\\braket}[2]{\\left\\langle{#1}\\middle|{#2}\\right\\rangle}$$\n",
    "\n",
    "when it comes to implementation:  \n",
    "first try to run circuit on simulator \n",
    "second try to run on real hardware\n",
    "\n",
    "long term goal is reproduce figures 5 (Ground state of a spin chain)and 6 (time evolution of operator $\\sigma_z$) \n",
    "\n",
    "short term goal is initialize the state to  $ \\ket{0000}  $ and $\\ket{ 1100} $"
   ]
  },
  {
   "cell_type": "code",
<<<<<<< HEAD
   "execution_count": 4,
   "metadata": {},
   "outputs": [],
   "source": [
    "#Start up and initialize circuit\n",
    "#Measurement\n",
    "\n",
    "    \n",
    "    #Choose provider and backend\n",
    "#provider = IBMQ.get_provider()\n",
    "#provider = AerProvider()\n",
    "#backend = Aer.get_backend('statevector_simulator')\n",
    "backend = Aer.get_backend('qasm_simulator')\n",
    "#backend = provider.get_backend('ibmq_qasm_simulator')\n",
    "#backend = provider.get_backend('ibmqx4')\n",
    "#backend = provider.get_backend('ibmqx2')\n",
    "#backend = provider.get_backend('ibmq_16_melbourne')\n",
    "\n",
    "shots = 1024\n",
    "max_credits = 10 #Max number of credits to spend on execution\n",
    "#job = execute(qc, backend=backend, shots=shots, max_credits=max_credits)  \n",
    "#job_monitor(job)\n",
    "#result = job.result()\n",
    "#counts = result.get_counts(qc)\n",
    "#plot_histogram(counts)\n",
    "\n",
    " # had to comment this part because qc is a local variable in groundstate function now - Bruna"
   ]
  },
  {
   "cell_type": "code",
   "execution_count": 5,
   "metadata": {},
   "outputs": [
    {
     "name": "stdout",
     "output_type": "stream",
     "text": [
      "|0000> probability should be:  0.8841106397986879\n",
      "|0011> probability should be:  0.11588936020131207\n"
     ]
    }
   ],
   "source": [
    "phi = np.arccos(lambd/np.sqrt(1+lambd**2))/2\n",
    "#print(result.get_statevector(qc))\n",
    "print(\"|0000> probability should be: \",np.cos(phi)**2)\n",
    "print(\"|0011> probability should be: \",np.sin(phi)**2 )"
   ]
  },
  {
   "cell_type": "code",
   "execution_count": 6,
   "metadata": {},
   "outputs": [
    {
     "ename": "NameError",
     "evalue": "name 'counts' is not defined",
     "output_type": "error",
     "traceback": [
      "\u001b[1;31m---------------------------------------------------------------------------\u001b[0m",
      "\u001b[1;31mNameError\u001b[0m                                 Traceback (most recent call last)",
      "\u001b[1;32m<ipython-input-6-204669414283>\u001b[0m in \u001b[0;36m<module>\u001b[1;34m\u001b[0m\n\u001b[1;32m----> 1\u001b[1;33m \u001b[0mprint\u001b[0m\u001b[1;33m(\u001b[0m\u001b[0mcounts\u001b[0m\u001b[1;33m[\u001b[0m\u001b[1;34m'0000'\u001b[0m\u001b[1;33m]\u001b[0m\u001b[1;33m)\u001b[0m\u001b[1;33m\u001b[0m\u001b[1;33m\u001b[0m\u001b[0m\n\u001b[0m",
      "\u001b[1;31mNameError\u001b[0m: name 'counts' is not defined"
     ]
    }
   ],
   "source": [
    "#print(counts['0000'])"
   ]
  },
  {
   "cell_type": "code",
=======
>>>>>>> parent of 42a69b2 (Merge pull request #1 from kaelynj/master)
   "execution_count": null,
   "metadata": {},
   "outputs": [],
   "source": []
  }
 ],
 "metadata": {
  "kernelspec": {
   "display_name": "Python 3",
   "language": "python",
   "name": "python3"
  },
  "language_info": {
   "codemirror_mode": {
    "name": "ipython",
    "version": 3
   },
   "file_extension": ".py",
   "mimetype": "text/x-python",
   "name": "python",
   "nbconvert_exporter": "python",
   "pygments_lexer": "ipython3",
<<<<<<< HEAD
   "version": "3.7.7"
=======
   "version": "3.7.3"
>>>>>>> parent of 42a69b2 (Merge pull request #1 from kaelynj/master)
  }
 },
 "nbformat": 4,
 "nbformat_minor": 4
}
