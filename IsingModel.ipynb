{
 "cells": [
  {
   "cell_type": "code",
<<<<<<< HEAD
   "execution_count": 1,
=======
   "execution_count": 28,
>>>>>>> parent of 42a69b2 (Merge pull request #1 from kaelynj/master)
   "metadata": {},
   "outputs": [
    {
     "name": "stderr",
     "output_type": "stream",
     "text": [
<<<<<<< HEAD
      "\r",
      "Job Status: job has successfully run\n",
      "0.0009765625\n"
=======
      "ibmqfactory.load_account:WARNING:2021-02-12 10:53:27,712: Credentials are already in use. The existing account in the session will be replaced.\n"
>>>>>>> parent of 42a69b2 (Merge pull request #1 from kaelynj/master)
     ]
    },
    {
     "data": {
      "text/html": [
       "<pre style=\"word-wrap: normal;white-space: pre;background: #fff0;line-height: 1.1;font-family: &quot;Courier New&quot;,Courier,monospace\">          ┌───┐                                       ┌───┐             ░ »\n",
       "q_0: ─────┤ X ├────────────────────────■──────────────┤ X ├─────────────░─»\n",
       "     ┌───┐└─┬─┘┌─────────┐┌─────────┐┌─┴─┐┌──────────┐└─┬─┘┌──────────┐ ░ »\n",
       "q_1: ┤ X ├──■──┤ RZ(π/2) ├┤ RY(π/8) ├┤ X ├┤ RY(-π/8) ├──■──┤ RZ(-π/2) ├─░─»\n",
       "     └───┘     └─────────┘└─────────┘└───┘└──────────┘     └──────────┘ ░ »\n",
       "q_2: ───────────────────────────────────────────────────────────────────░─»\n",
       "                                                                        ░ »\n",
       "q_3: ───────────────────────────────────────────────────────────────────░─»\n",
       "                                                                        ░ »\n",
       "c: 4/═════════════════════════════════════════════════════════════════════»\n",
       "                                                                          »\n",
       "«     ┌─────────┐                                                     ░ »\n",
       "«q_0: ┤ RZ(π/2) ├──■───────────────────────■───────────────────■───■──░─»\n",
       "«     └─────────┘┌─┴─┐┌─────┐┌───┐┌─────┐┌─┴─┐┌───┐┌───┐┌───┐┌─┴─┐ │  ░ »\n",
       "«q_1: ───────────┤ X ├┤ SDG ├┤ H ├┤ TDG ├┤ X ├┤ T ├┤ H ├┤ S ├┤ X ├─■──░─»\n",
       "«                └───┘└─────┘└───┘└─────┘└───┘└───┘└───┘└───┘└───┘    ░ »\n",
       "«q_2: ────────────────────────────────────────────────────────────────░─»\n",
       "«                                                                     ░ »\n",
       "«q_3: ────────────────────────────────────────────────────────────────░─»\n",
       "«                                                                     ░ »\n",
       "«c: 4/══════════════════════════════════════════════════════════════════»\n",
       "«                                                                       »\n",
       "«                                                                   ░ ┌───────┐»\n",
       "«q_0: ──────────────────────────────────────────────────────────────░─┤ RZ(0) ├»\n",
       "«                                                                   ░ └───────┘»\n",
       "«q_1: ──────────────────────────────────────────────────────────────░──────────»\n",
       "«     ┌───────┐                                                     ░          »\n",
       "«q_2: ┤ RZ(0) ├──■───────────────────────■───────────────────■───■──░──────────»\n",
       "«     └───────┘┌─┴─┐┌─────┐┌───┐┌─────┐┌─┴─┐┌───┐┌───┐┌───┐┌─┴─┐ │  ░          »\n",
       "«q_3: ─────────┤ X ├┤ SDG ├┤ H ├┤ TDG ├┤ X ├┤ T ├┤ H ├┤ S ├┤ X ├─■──░──────────»\n",
       "«              └───┘└─────┘└───┘└─────┘└───┘└───┘└───┘└───┘└───┘    ░          »\n",
       "«c: 4/═════════════════════════════════════════════════════════════════════════»\n",
       "«                                                                              »\n",
       "«                                                          ░               »\n",
       "«q_0: ──■───────────────────────■───────────────────■───■──░───────────────»\n",
       "«     ┌─┴─┐┌─────┐┌───┐┌─────┐┌─┴─┐┌───┐┌───┐┌───┐┌─┴─┐ │  ░               »\n",
       "«q_1: ┤ X ├┤ SDG ├┤ H ├┤ TDG ├┤ X ├┤ T ├┤ H ├┤ S ├┤ X ├─■──░───────────────»\n",
       "«     └───┘└─────┘└───┘└─────┘└───┘└───┘└───┘└───┘└───┘    ░ ┌───────┐     »\n",
       "«q_2: ─────────────────────────────────────────────────────░─┤ RZ(0) ├──■──»\n",
       "«                                                          ░ └───────┘┌─┴─┐»\n",
       "«q_3: ─────────────────────────────────────────────────────░──────────┤ X ├»\n",
       "«                                                          ░          └───┘»\n",
       "«c: 4/═════════════════════════════════════════════════════════════════════»\n",
       "«                                                                          »\n",
       "«                                                     ░ ┌─┐         \n",
       "«q_0: ────────────────────────────────────────────────░─┤M├─────────\n",
       "«                                                     ░ └╥┘┌─┐      \n",
       "«q_1: ────────────────────────────────────────────────░──╫─┤M├──────\n",
       "«                                                     ░  ║ └╥┘┌─┐   \n",
       "«q_2: ─────────────────────■───────────────────■───■──░──╫──╫─┤M├───\n",
       "«     ┌─────┐┌───┐┌─────┐┌─┴─┐┌───┐┌───┐┌───┐┌─┴─┐ │  ░  ║  ║ └╥┘┌─┐\n",
       "«q_3: ┤ SDG ├┤ H ├┤ TDG ├┤ X ├┤ T ├┤ H ├┤ S ├┤ X ├─■──░──╫──╫──╫─┤M├\n",
       "«     └─────┘└───┘└─────┘└───┘└───┘└───┘└───┘└───┘    ░  ║  ║  ║ └╥┘\n",
       "«c: 4/═══════════════════════════════════════════════════╩══╩══╩══╩═\n",
       "«                                                        0  1  2  3 </pre>"
      ],
      "text/plain": [
       "          ┌───┐                                       ┌───┐             ░ »\n",
       "q_0: ─────┤ X ├────────────────────────■──────────────┤ X ├─────────────░─»\n",
       "     ┌───┐└─┬─┘┌─────────┐┌─────────┐┌─┴─┐┌──────────┐└─┬─┘┌──────────┐ ░ »\n",
       "q_1: ┤ X ├──■──┤ RZ(π/2) ├┤ RY(π/8) ├┤ X ├┤ RY(-π/8) ├──■──┤ RZ(-π/2) ├─░─»\n",
       "     └───┘     └─────────┘└─────────┘└───┘└──────────┘     └──────────┘ ░ »\n",
       "q_2: ───────────────────────────────────────────────────────────────────░─»\n",
       "                                                                        ░ »\n",
       "q_3: ───────────────────────────────────────────────────────────────────░─»\n",
       "                                                                        ░ »\n",
       "c: 4/═════════════════════════════════════════════════════════════════════»\n",
       "                                                                          »\n",
       "«     ┌─────────┐                                                     ░ »\n",
       "«q_0: ┤ RZ(π/2) ├──■───────────────────────■───────────────────■───■──░─»\n",
       "«     └─────────┘┌─┴─┐┌─────┐┌───┐┌─────┐┌─┴─┐┌───┐┌───┐┌───┐┌─┴─┐ │  ░ »\n",
       "«q_1: ───────────┤ X ├┤ SDG ├┤ H ├┤ TDG ├┤ X ├┤ T ├┤ H ├┤ S ├┤ X ├─■──░─»\n",
       "«                └───┘└─────┘└───┘└─────┘└───┘└───┘└───┘└───┘└───┘    ░ »\n",
       "«q_2: ────────────────────────────────────────────────────────────────░─»\n",
       "«                                                                     ░ »\n",
       "«q_3: ────────────────────────────────────────────────────────────────░─»\n",
       "«                                                                     ░ »\n",
       "«c: 4/══════════════════════════════════════════════════════════════════»\n",
       "«                                                                       »\n",
       "«                                                                   ░ ┌───────┐»\n",
       "«q_0: ──────────────────────────────────────────────────────────────░─┤ RZ(0) ├»\n",
       "«                                                                   ░ └───────┘»\n",
       "«q_1: ──────────────────────────────────────────────────────────────░──────────»\n",
       "«     ┌───────┐                                                     ░          »\n",
       "«q_2: ┤ RZ(0) ├──■───────────────────────■───────────────────■───■──░──────────»\n",
       "«     └───────┘┌─┴─┐┌─────┐┌───┐┌─────┐┌─┴─┐┌───┐┌───┐┌───┐┌─┴─┐ │  ░          »\n",
       "«q_3: ─────────┤ X ├┤ SDG ├┤ H ├┤ TDG ├┤ X ├┤ T ├┤ H ├┤ S ├┤ X ├─■──░──────────»\n",
       "«              └───┘└─────┘└───┘└─────┘└───┘└───┘└───┘└───┘└───┘    ░          »\n",
       "«c: 4/═════════════════════════════════════════════════════════════════════════»\n",
       "«                                                                              »\n",
       "«                                                          ░               »\n",
       "«q_0: ──■───────────────────────■───────────────────■───■──░───────────────»\n",
       "«     ┌─┴─┐┌─────┐┌───┐┌─────┐┌─┴─┐┌───┐┌───┐┌───┐┌─┴─┐ │  ░               »\n",
       "«q_1: ┤ X ├┤ SDG ├┤ H ├┤ TDG ├┤ X ├┤ T ├┤ H ├┤ S ├┤ X ├─■──░───────────────»\n",
       "«     └───┘└─────┘└───┘└─────┘└───┘└───┘└───┘└───┘└───┘    ░ ┌───────┐     »\n",
       "«q_2: ─────────────────────────────────────────────────────░─┤ RZ(0) ├──■──»\n",
       "«                                                          ░ └───────┘┌─┴─┐»\n",
       "«q_3: ─────────────────────────────────────────────────────░──────────┤ X ├»\n",
       "«                                                          ░          └───┘»\n",
       "«c: 4/═════════════════════════════════════════════════════════════════════»\n",
       "«                                                                          »\n",
       "«                                                     ░ ┌─┐         \n",
       "«q_0: ────────────────────────────────────────────────░─┤M├─────────\n",
       "«                                                     ░ └╥┘┌─┐      \n",
       "«q_1: ────────────────────────────────────────────────░──╫─┤M├──────\n",
       "«                                                     ░  ║ └╥┘┌─┐   \n",
       "«q_2: ─────────────────────■───────────────────■───■──░──╫──╫─┤M├───\n",
       "«     ┌─────┐┌───┐┌─────┐┌─┴─┐┌───┐┌───┐┌───┐┌─┴─┐ │  ░  ║  ║ └╥┘┌─┐\n",
       "«q_3: ┤ SDG ├┤ H ├┤ TDG ├┤ X ├┤ T ├┤ H ├┤ S ├┤ X ├─■──░──╫──╫──╫─┤M├\n",
       "«     └─────┘└───┘└─────┘└───┘└───┘└───┘└───┘└───┘    ░  ║  ║  ║ └╥┘\n",
       "«c: 4/═══════════════════════════════════════════════════╩══╩══╩══╩═\n",
       "«                                                        0  1  2  3 "
      ]
     },
     "execution_count": 28,
     "metadata": {},
     "output_type": "execute_result"
    }
   ],
   "source": [
    "%reset -f\n",
    "#%matplotlib inline\n",
    "# Importing standard Qiskit libraries and configuring account\n",
    "from qiskit import QuantumCircuit, execute, Aer, IBMQ, QuantumRegister\n",
    "from qiskit.providers.aer import QasmSimulator, StatevectorSimulator, UnitarySimulator\n",
    "from qiskit.compiler import transpile, assemble\n",
    "from qiskit.tools.monitor import job_monitor\n",
    "from qiskit.tools.jupyter import *\n",
    "from qiskit.visualization import *\n",
    "from qiskit.quantum_info import *\n",
    "import numpy as np\n",
    "provider = IBMQ.load_account()\n",
    "\n",
    "    \n",
    "# Loading your IBM Q account(s)\n",
    "provider = IBMQ.load_account()\n",
    "\n",
    "#contants\n",
    "n = 4\n",
    "lambd = 1.0\n",
    "\n",
    "def thetak(k):\n",
    "    num = lambd - np.cos(2*np.pi*k/n)\n",
    "    denom = np.sqrt( (lambd-np.cos(2*np.pi*k/n))**2 + np.sin(2*np.pi*k/n)**2)\n",
    "    theta = np.arccos(num/denom)\n",
    "    return theta\n",
    "\n",
    "#Create functions based on the decomposition included in appendix of Ising paper\n",
    "def bog(qcirc, q1, q2, theta):\n",
    "    qcirc.x(q2)\n",
    "    qcirc.cnot(q2, q1)\n",
    "    #Controlled RX gate\n",
    "    qcirc.rz(np.pi/2, q2)\n",
    "    qcirc.ry(theta/2, q2)\n",
    "    qcirc.cnot(q1, q2)\n",
    "    qcirc.ry(-theta/2, q2)\n",
<<<<<<< HEAD
    "    qcirc.cx(q1, q2) #changed from qc to qcirc here - Bruna\n",
    "    qcirc.rz(-np.pi/2, q2)\n",
    "    #####################\n",
    "    qcirc.cx(q2, q1)\n",
    "    qcirc.x(q2)\n",
=======
    "    ######################\n",
    "    qcirc.cnot(q2, q1)\n",
    "    qc.rz(-np.pi/2, q2)\n",
>>>>>>> parent of 42a69b2 (Merge pull request #1 from kaelynj/master)
    "    qcirc.barrier()\n",
    "    return qcirc\n",
    "    \n",
    "def fourier(qcirc, q1, q2, phase):\n",
    "    qcirc.rz(phase, q1)\n",
    "    qcirc.cnot(q1, q2)\n",
    "    #Controlled Hadamard\n",
    "    qcirc.sdg(q2)\n",
    "    qcirc.h(q2)\n",
    "    qcirc.tdg(q2)\n",
    "    qcirc.cnot(q1, q2)\n",
    "    qcirc.t(q2)\n",
    "    qcirc.h(q2)\n",
    "    qcirc.s(q2)\n",
    "    ####################\n",
    "    qcirc.cnot(q1, q2)\n",
    "    qcirc.cz(q1, q2)\n",
    "    qcirc.barrier()\n",
    "    return qcirc\n",
    "\n",
    "#create quantum circuit\n",
    "qc = QuantumCircuit(4, 4)\n",
    "#Set correct ground state if lambda < 1\n",
    "if lambd < 1:\n",
    "    qc.x(3)\n",
    "    qc.barrier()\n",
    "\n",
<<<<<<< HEAD
    "def ground_state(lamb, backend_name): # backend is now an imput, so we can plot \n",
    "                                    # different ones easily - Bruna\n",
    "    qc = QuantumCircuit(4, 4)\n",
    "    #Set correct ground state if lambda < 1\n",
    "    if lambd < 1:\n",
    "        qc.x(3)\n",
    "        qc.barrier()\n",
    "\n",
    "    #Apply disentangling gates\n",
    "    qc = bog(qc, 0, 1, thetak(1.))\n",
    "    qc = fourier(qc, 0, 1, 2*np.pi/n)\n",
    "    qc = fourier(qc, 2, 3, 0.)\n",
    "    qc = fourier(qc, 0, 1, 0.)\n",
    "    qc = fourier(qc, 2, 3, 0.)\n",
    "    #Set measurement step\n",
    "    for i in range(0,4):\n",
    "        qc.measure(i,i)\n",
    "        \n",
    "    backend = Aer.get_backend(backend_name)\n",
    "    shots = 1024\n",
    "    max_credits = 10 #Max number of credits to spend on execution\n",
    "    job = execute(qc, backend=backend, shots=shots, max_credits=max_credits)\n",
    "    job_monitor(job)\n",
    "    result = job.result()\n",
    "    counts = result.get_counts(qc)\n",
    "    #Check what ground state is based on lambda\n",
    "    if lamb < 1:\n",
    "        return counts['0001']/shots\n",
    "    return counts['0000']/shots # it does not always works, sometimes it returns keyword error \n",
    "                                # maybe we can add another else for the possibility of other states, but \n",
    "                                # do not use it for plotting - Bruna\n",
=======
    "#Apply disentangling gates\n",
    "qc = bog(qc, 0, 1, thetak(1.))\n",
    "qc = fourier(qc, 0, 1, 2*np.pi/n)\n",
    "qc = fourier(qc, 2, 3, 0.)\n",
    "qc = fourier(qc, 0, 1, 0.)\n",
    "qc = fourier(qc, 2, 3, 0.)\n",
    "\n",
    "'''\n",
    "#create Quantum operators\n",
>>>>>>> parent of 42a69b2 (Merge pull request #1 from kaelynj/master)
    "\n",
    "F1_dag = Operator([\n",
    "    [1, 0, 0, 0],\n",
    "    [0, 1/np.sqrt(2), 1/np.sqrt(2), 0],\n",
    "    [0, 1/np.sqrt(2)*np.exp(-2*np.pi*1j/n), -1/np.sqrt(2)*np.exp(-2*np.pi*1j/n), 0],\n",
    "    [0, 0, 0, -np.exp(-2*np.pi*1j/n)]])\n",
    "\n",
    "F0_dag = Operator([\n",
    "    [1, 0, 0, 0],\n",
    "    [0, 1/np.sqrt(2), 1/np.sqrt(2), 0],\n",
    "    [0, 1/np.sqrt(2), -1/np.sqrt(2), 0],\n",
    "    [0, 0, 0, -1]])\n",
    "B1_dag = Operator([\n",
    "    [np.cos(thetak(1.)/2), 0, 0, -1j*np.sin(thetak(1.)/2)],\n",
    "    [0, 1, 0, 0],\n",
    "    [0, 0, 1, 0],\n",
    "    [ -1j*np.sin(thetak(1.)/2),0,0,np.cos(thetak(1.)/2)]])\n",
    "\n",
<<<<<<< HEAD
    "print(ground_state(lambd, 'statevector_simulator'))\n",
    "\n"
   ]
  },
  {
   "cell_type": "code",
   "execution_count": 2,
   "metadata": {},
   "outputs": [
    {
     "name": "stdout",
     "output_type": "stream",
     "text": [
      "Job Status: job has successfully run\n",
      "Job Status: job has successfully run\n",
      "Job Status: job has successfully run\n",
      "Job Status: job has successfully run\n",
      "Job Status: job has successfully run\n",
      "Job Status: job has successfully run\n",
      "Job Status: job has successfully run\n",
      "Job Status: job has successfully run\n",
      "Job Status: job has successfully run\n",
      "Job Status: job has successfully run\n",
      "Job Status: job has successfully run\n",
      "[0.0009765625, 0.0009765625, 0.0009765625, 0.0009765625, 0.0009765625, 0.0009765625, 0.0009765625, 0.0009765625, 0.0009765625, 0.0009765625, 0.0009765625]\n"
     ]
    }
   ],
   "source": [
    "lmbd = np.arange(1.2, 1.75, 0.05)\n",
    "sigmaz = []\n",
    "for l in lmbd:\n",
    "    sigmaz.append(ground_state(l, 'statevector_simulator'))\n",
    "    \n",
    "print(sigmaz)\n",
    "\n"
   ]
  },
  {
   "cell_type": "code",
   "execution_count": 3,
   "metadata": {},
   "outputs": [
    {
     "data": {
      "text/plain": [
       "(0.0, 1.8)"
      ]
     },
     "execution_count": 3,
     "metadata": {},
     "output_type": "execute_result"
    },
    {
     "data": {
      "image/png": "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\n",
      "text/plain": [
       "<Figure size 432x288 with 1 Axes>"
      ]
     },
     "metadata": {
      "needs_background": "light"
     },
     "output_type": "display_data"
    }
   ],
   "source": [
    "plt.plot(lmbd, sigmaz)\n",
    "#plt.ylim(0., 1.)\n",
    "plt.xlim(0., 1.8)"
=======
    "fswap = Operator([\n",
    "        [1,0,0,0],\n",
    "        [0,0,1,0],\n",
    "        [0,1,0,0],\n",
    "        [0,0,0,-1]\n",
    "])\n",
    "\n",
    "#Create quantum Gates\n",
    "qc.unitary(B1_dag, [0, 1], label='B1_dag')\n",
    "qc.unitary(F1_dag, [0, 1], label='F1_dag')\n",
    "qc.unitary(F0_dag, [2, 3], label='F0_dag')\n",
    "qc.unitary(fswap,[1,2],label ='fSWAP')\n",
    "qc.unitary(F0_dag, [0, 1], label='F0_dag')\n",
    "qc.unitary(F0_dag, [2, 3], label='F0_dag')\n",
    "qc.unitary(fswap,[1,2],label ='fSWAP')\n",
    "'''    \n",
    "\n",
    "#Set measurement step\n",
    "for i in range(0,4):\n",
    "    qc.measure(i,i)\n",
    "\n",
    "#display circuit\n",
    "qc.draw()\n"
>>>>>>> parent of 42a69b2 (Merge pull request #1 from kaelynj/master)
   ]
  },
  {
   "cell_type": "markdown",
   "metadata": {},
   "source": [
    "$ \\newcommand{\\ket}[1]{\\left|{#1}\\right\\rangle}$\n",
    "$ \\newcommand{\\bra}[1]{\\left\\langle{#1}\\right|}$\n",
    "$$ \\newcommand{\\braket}[2]{\\left\\langle{#1}\\middle|{#2}\\right\\rangle}$$\n",
    "\n",
    "when it comes to implementation:  \n",
    "first try to run circuit on simulator \n",
    "second try to run on real hardware\n",
    "\n",
    "long term goal is reproduce figures 5 (Ground state of a spin chain)and 6 (time evolution of operator $\\sigma_z$) \n",
    "\n",
    "short term goal is initialize the state to  $ \\ket{0000}  $ and $\\ket{ 1100} $"
   ]
  },
  {
   "cell_type": "code",
<<<<<<< HEAD
   "execution_count": 4,
   "metadata": {},
   "outputs": [],
=======
   "execution_count": 29,
   "metadata": {},
   "outputs": [
    {
     "name": "stdout",
     "output_type": "stream",
     "text": [
      "\r",
      "Job Status: job has successfully run\n"
     ]
    },
    {
     "data": {
      "image/png": "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\n",
      "text/plain": [
       "<Figure size 504x360 with 1 Axes>"
      ]
     },
     "execution_count": 29,
     "metadata": {},
     "output_type": "execute_result"
    }
   ],
>>>>>>> parent of 42a69b2 (Merge pull request #1 from kaelynj/master)
   "source": [
    "#Start up and initialize circuit\n",
    "#Measurement\n",
    "\n",
    "    \n",
    "    #Choose provider and backend\n",
    "#provider = IBMQ.get_provider()\n",
    "#provider = AerProvider()\n",
    "#backend = Aer.get_backend('statevector_simulator')\n",
    "backend = Aer.get_backend('qasm_simulator')\n",
    "#backend = provider.get_backend('ibmq_qasm_simulator')\n",
    "#backend = provider.get_backend('ibmqx4')\n",
    "#backend = provider.get_backend('ibmqx2')\n",
    "#backend = provider.get_backend('ibmq_16_melbourne')\n",
    "\n",
    "shots = 1024\n",
    "max_credits = 10 #Max number of credits to spend on execution\n",
<<<<<<< HEAD
    "#job = execute(qc, backend=backend, shots=shots, max_credits=max_credits)  \n",
    "#job_monitor(job)\n",
    "#result = job.result()\n",
    "#counts = result.get_counts(qc)\n",
    "#plot_histogram(counts)\n",
    "\n",
    " # had to comment this part because qc is a local variable in groundstate function now - Bruna"
=======
    "job = execute(qc, backend=backend, shots=shots, max_credits=max_credits)\n",
    "job_monitor(job_exp)\n",
    "result = job.result()\n",
    "counts = result.get_counts(qc)\n",
    "plot_histogram(counts)\n",
    "\n"
>>>>>>> parent of 42a69b2 (Merge pull request #1 from kaelynj/master)
   ]
  },
  {
   "cell_type": "code",
<<<<<<< HEAD
   "execution_count": 5,
=======
   "execution_count": 31,
>>>>>>> parent of 42a69b2 (Merge pull request #1 from kaelynj/master)
   "metadata": {},
   "outputs": [
    {
     "name": "stdout",
     "output_type": "stream",
     "text": [
      "|0000> probability should be:  0.8535533905932737\n",
      "|0011> probability should be:  0.14644660940672624\n"
     ]
    }
   ],
   "source": [
    "phi = np.arccos(lambd/np.sqrt(1+lambd**2))/2\n",
    "#print(result.get_statevector(qc))\n",
    "print(\"|0000> probability should be: \",np.cos(phi)**2)\n",
    "print(\"|0011> probability should be: \",np.sin(phi)**2 )"
   ]
  },
  {
   "cell_type": "code",
<<<<<<< HEAD
   "execution_count": 6,
   "metadata": {},
   "outputs": [
    {
     "ename": "NameError",
     "evalue": "name 'counts' is not defined",
     "output_type": "error",
     "traceback": [
      "\u001b[1;31m---------------------------------------------------------------------------\u001b[0m",
      "\u001b[1;31mNameError\u001b[0m                                 Traceback (most recent call last)",
      "\u001b[1;32m<ipython-input-6-204669414283>\u001b[0m in \u001b[0;36m<module>\u001b[1;34m\u001b[0m\n\u001b[1;32m----> 1\u001b[1;33m \u001b[0mprint\u001b[0m\u001b[1;33m(\u001b[0m\u001b[0mcounts\u001b[0m\u001b[1;33m[\u001b[0m\u001b[1;34m'0000'\u001b[0m\u001b[1;33m]\u001b[0m\u001b[1;33m)\u001b[0m\u001b[1;33m\u001b[0m\u001b[1;33m\u001b[0m\u001b[0m\n\u001b[0m",
      "\u001b[1;31mNameError\u001b[0m: name 'counts' is not defined"
     ]
    }
   ],
   "source": [
    "#print(counts['0000'])"
   ]
=======
   "execution_count": null,
   "metadata": {},
   "outputs": [],
   "source": []
>>>>>>> parent of 42a69b2 (Merge pull request #1 from kaelynj/master)
  },
  {
   "cell_type": "code",
   "execution_count": null,
   "metadata": {},
   "outputs": [],
   "source": []
  }
 ],
 "metadata": {
  "kernelspec": {
   "display_name": "Python 3",
   "language": "python",
   "name": "python3"
  },
  "language_info": {
   "codemirror_mode": {
    "name": "ipython",
    "version": 3
   },
   "file_extension": ".py",
   "mimetype": "text/x-python",
   "name": "python",
   "nbconvert_exporter": "python",
   "pygments_lexer": "ipython3",
   "version": "3.7.7"
  }
 },
 "nbformat": 4,
 "nbformat_minor": 4
}
