{
 "cells": [
  {
   "cell_type": "code",
   "execution_count": 2,
   "metadata": {},
   "outputs": [
    {
     "data": {
      "text/html": [
       "<pre style=\"word-wrap: normal;white-space: pre;background: #fff0;line-height: 1.1;font-family: &quot;Courier New&quot;,Courier,monospace\">     ┌─────────┐┌─────────┐          ┌─────────┐          \n",
       "q_0: ┤0        ├┤0        ├──────────┤0        ├──────────\n",
       "     │  B1_dag ││  F1_dag │┌────────┐│  F0_dag │┌────────┐\n",
       "q_1: ┤1        ├┤1        ├┤0       ├┤1        ├┤0       ├\n",
       "     ├─────────┤└─────────┘│  fSWAP │├─────────┤│  fSWAP │\n",
       "q_2: ┤0        ├───────────┤1       ├┤0        ├┤1       ├\n",
       "     │  F0_dag │           └────────┘│  F0_dag │└────────┘\n",
       "q_3: ┤1        ├─────────────────────┤1        ├──────────\n",
       "     └─────────┘                     └─────────┘          </pre>"
      ],
      "text/plain": [
       "     ┌─────────┐┌─────────┐          ┌─────────┐          \n",
       "q_0: ┤0        ├┤0        ├──────────┤0        ├──────────\n",
       "     │  B1_dag ││  F1_dag │┌────────┐│  F0_dag │┌────────┐\n",
       "q_1: ┤1        ├┤1        ├┤0       ├┤1        ├┤0       ├\n",
       "     ├─────────┤└─────────┘│  fSWAP │├─────────┤│  fSWAP │\n",
       "q_2: ┤0        ├───────────┤1       ├┤0        ├┤1       ├\n",
       "     │  F0_dag │           └────────┘│  F0_dag │└────────┘\n",
       "q_3: ┤1        ├─────────────────────┤1        ├──────────\n",
       "     └─────────┘                     └─────────┘          "
      ]
     },
     "execution_count": 2,
     "metadata": {},
     "output_type": "execute_result"
    }
   ],
   "source": [
    "#%matplotlib inline\n",
    "# Importing standard Qiskit libraries and configuring account\n",
    "from qiskit import QuantumCircuit, execute, Aer, IBMQ, QuantumRegister\n",
    "from qiskit.compiler import transpile, assemble\n",
    "from qiskit.tools.jupyter import *\n",
    "from qiskit.visualization import *\n",
    "from qiskit.quantum_info import *\n",
    "import numpy as np\n",
    "\n",
    "\n",
    "    \n",
    "# Loading your IBM Q account(s)\n",
    "#provider = IBMQ.load_account()\n",
    "\n",
    "#contants\n",
    "n = 1\n",
    "theta = 1\n",
    "\n",
    "#create quantum circuit\n",
    "qc = QuantumCircuit(4)\n",
    "\n",
    "#create Quantum operators\n",
    "\n",
    "F1_dag = Operator([\n",
    "    [1, 0, 0, 0],\n",
    "    [0, 1/np.sqrt(2), 1/np.sqrt(2), 0],\n",
    "    [0, 1/np.sqrt(2)*np.exp(-2*np.pi*1j), -1/np.sqrt(2)*np.exp(-2*np.pi*1j), 0],\n",
    "    [0, 0, 0, -np.exp(-2*np.pi*1j)]])\n",
    "\n",
    "F0_dag = Operator([\n",
    "    [1, 0, 0, 0],\n",
    "    [0, 1/np.sqrt(2), 1/np.sqrt(2), 0],\n",
    "    [0, 1/np.sqrt(2), -1/np.sqrt(2), 0],\n",
    "    [0, 0, 0, -1]])\n",
    "B1_dag = Operator([\n",
    "    [np.cos(theta/2), 0, 0, 1j*np.sin(theta/2)],\n",
    "    [0, 1, 0, 0],\n",
    "    [0, 0, 1, 0],\n",
    "    [ 1j*np.sin(theta/2),0,0,np.cos(theta/2)]])\n",
    "\n",
    "fswap = Operator([\n",
    "        [1,0,0,0],\n",
    "        [0,0,1,0],\n",
    "        [0,1,0,0],\n",
    "        [0,0,0,-1]\n",
    "])\n",
    "\n",
    "\n",
    "\n",
    "#Create quantum Gates\n",
    "qc.unitary(B1_dag, [0, 1], label='B1_dag')\n",
    "qc.unitary(F1_dag, [0, 1], label='F1_dag')\n",
    "qc.unitary(F0_dag, [2, 3], label='F0_dag')\n",
    "qc.unitary(fswap,[1,2],label ='fSWAP')\n",
    "qc.unitary(F0_dag, [0, 1], label='F0_dag')\n",
    "qc.unitary(F0_dag, [2, 3], label='F0_dag')\n",
    "qc.unitary(fswap,[1,2],label ='fSWAP')\n",
    "\n",
    "#display circuit\n",
    "qc.draw()\n"
   ]
  },
  {
   "cell_type": "markdown",
   "metadata": {},
   "source": [
    "$ \\newcommand{\\ket}[1]{\\left|{#1}\\right\\rangle}$\n",
    "$ \\newcommand{\\bra}[1]{\\left\\langle{#1}\\right|}$\n",
    "$$ \\newcommand{\\braket}[2]{\\left\\langle{#1}\\middle|{#2}\\right\\rangle}$$\n",
    "\n",
    "when it comes to implementation:  \n",
    "first try to run circuit on simulator \n",
    "second try to run on real hardware\n",
    "\n",
    "long term goal is reproduce figures 5 (Ground state of a spin chain)and 6 (time evolution of operator $\\sigma_z$) \n",
    "\n",
    "short term goal is initialize the state to  $ \\ket{0000}  $ and $\\ket{ 1100} $"
   ]
  },
  {
   "cell_type": "code",
   "execution_count": null,
   "metadata": {},
   "outputs": [],
   "source": []
  }
 ],
 "metadata": {
  "kernelspec": {
   "display_name": "Python 3",
   "language": "python",
   "name": "python3"
  },
  "language_info": {
   "codemirror_mode": {
    "name": "ipython",
    "version": 3
   },
   "file_extension": ".py",
   "mimetype": "text/x-python",
   "name": "python",
   "nbconvert_exporter": "python",
   "pygments_lexer": "ipython3",
   "version": "3.7.3"
  }
 },
 "nbformat": 4,
 "nbformat_minor": 4
}
