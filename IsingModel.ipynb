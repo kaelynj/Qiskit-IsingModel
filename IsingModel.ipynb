{
 "cells": [
  {
   "cell_type": "code",

   "execution_count": 11,

   "metadata": {},
   "outputs": [
    {
     "name": "stderr",
     "output_type": "stream",
     "text": [
      "ibmqfactory.load_account:WARNING:2021-02-26 12:57:27,201: Credentials are already in use. The existing account in the session will be replaced.\n"
     ]
    },
    {
     "name": "stdout",
     "output_type": "stream",
     "text": [

      "Job Status: job has successfully run\n",
      "1\n"

     ]
    },
    {
     "data": {
      "text/html": [
       "<pre style=\"word-wrap: normal;white-space: pre;background: #fff0;line-height: 1.1;font-family: &quot;Courier New&quot;,Courier,monospace\">          ┌───┐                                       ┌───┐             ░ »\n",
       "q_0: ─────┤ X ├────────────────────────■──────────────┤ X ├─────────────░─»\n",
       "     ┌───┐└─┬─┘┌─────────┐┌─────────┐┌─┴─┐┌──────────┐└─┬─┘┌──────────┐ ░ »\n",
       "q_1: ┤ X ├──■──┤ RZ(π/2) ├┤ RY(π/8) ├┤ X ├┤ RY(-π/8) ├──■──┤ RZ(-π/2) ├─░─»\n",
       "     └───┘     └─────────┘└─────────┘└───┘└──────────┘     └──────────┘ ░ »\n",
       "q_2: ───────────────────────────────────────────────────────────────────░─»\n",
       "                                                                        ░ »\n",
       "q_3: ───────────────────────────────────────────────────────────────────░─»\n",
       "                                                                        ░ »\n",
       "c: 4/═════════════════════════════════════════════════════════════════════»\n",
       "                                                                          »\n",
       "«     ┌─────────┐                                                     ░ »\n",
       "«q_0: ┤ RZ(π/2) ├──■───────────────────────■───────────────────■───■──░─»\n",
       "«     └─────────┘┌─┴─┐┌─────┐┌───┐┌─────┐┌─┴─┐┌───┐┌───┐┌───┐┌─┴─┐ │  ░ »\n",
       "«q_1: ───────────┤ X ├┤ SDG ├┤ H ├┤ TDG ├┤ X ├┤ T ├┤ H ├┤ S ├┤ X ├─■──░─»\n",
       "«                └───┘└─────┘└───┘└─────┘└───┘└───┘└───┘└───┘└───┘    ░ »\n",
       "«q_2: ────────────────────────────────────────────────────────────────░─»\n",
       "«                                                                     ░ »\n",
       "«q_3: ────────────────────────────────────────────────────────────────░─»\n",
       "«                                                                     ░ »\n",
       "«c: 4/══════════════════════════════════════════════════════════════════»\n",
       "«                                                                       »\n",
       "«                                                                   ░ ┌───────┐»\n",
       "«q_0: ──────────────────────────────────────────────────────────────░─┤ RZ(0) ├»\n",
       "«                                                                   ░ └───────┘»\n",
       "«q_1: ──────────────────────────────────────────────────────────────░──────────»\n",
       "«     ┌───────┐                                                     ░          »\n",
       "«q_2: ┤ RZ(0) ├──■───────────────────────■───────────────────■───■──░──────────»\n",
       "«     └───────┘┌─┴─┐┌─────┐┌───┐┌─────┐┌─┴─┐┌───┐┌───┐┌───┐┌─┴─┐ │  ░          »\n",
       "«q_3: ─────────┤ X ├┤ SDG ├┤ H ├┤ TDG ├┤ X ├┤ T ├┤ H ├┤ S ├┤ X ├─■──░──────────»\n",
       "«              └───┘└─────┘└───┘└─────┘└───┘└───┘└───┘└───┘└───┘    ░          »\n",
       "«c: 4/═════════════════════════════════════════════════════════════════════════»\n",
       "«                                                                              »\n",
       "«                                                          ░               »\n",
       "«q_0: ──■───────────────────────■───────────────────■───■──░───────────────»\n",
       "«     ┌─┴─┐┌─────┐┌───┐┌─────┐┌─┴─┐┌───┐┌───┐┌───┐┌─┴─┐ │  ░               »\n",
       "«q_1: ┤ X ├┤ SDG ├┤ H ├┤ TDG ├┤ X ├┤ T ├┤ H ├┤ S ├┤ X ├─■──░───────────────»\n",
       "«     └───┘└─────┘└───┘└─────┘└───┘└───┘└───┘└───┘└───┘    ░ ┌───────┐     »\n",
       "«q_2: ─────────────────────────────────────────────────────░─┤ RZ(0) ├──■──»\n",
       "«                                                          ░ └───────┘┌─┴─┐»\n",
       "«q_3: ─────────────────────────────────────────────────────░──────────┤ X ├»\n",
       "«                                                          ░          └───┘»\n",
       "«c: 4/═════════════════════════════════════════════════════════════════════»\n",
       "«                                                                          »\n",
       "«                                                     ░ ┌─┐         \n",
       "«q_0: ────────────────────────────────────────────────░─┤M├─────────\n",
       "«                                                     ░ └╥┘┌─┐      \n",
       "«q_1: ────────────────────────────────────────────────░──╫─┤M├──────\n",
       "«                                                     ░  ║ └╥┘┌─┐   \n",
       "«q_2: ─────────────────────■───────────────────■───■──░──╫──╫─┤M├───\n",
       "«     ┌─────┐┌───┐┌─────┐┌─┴─┐┌───┐┌───┐┌───┐┌─┴─┐ │  ░  ║  ║ └╥┘┌─┐\n",
       "«q_3: ┤ SDG ├┤ H ├┤ TDG ├┤ X ├┤ T ├┤ H ├┤ S ├┤ X ├─■──░──╫──╫──╫─┤M├\n",
       "«     └─────┘└───┘└─────┘└───┘└───┘└───┘└───┘└───┘    ░  ║  ║  ║ └╥┘\n",
       "«c: 4/═══════════════════════════════════════════════════╩══╩══╩══╩═\n",
       "«                                                        0  1  2  3 </pre>"
      ],
      "text/plain": [
       "          ┌───┐                                       ┌───┐             ░ »\n",
       "q_0: ─────┤ X ├────────────────────────■──────────────┤ X ├─────────────░─»\n",
       "     ┌───┐└─┬─┘┌─────────┐┌─────────┐┌─┴─┐┌──────────┐└─┬─┘┌──────────┐ ░ »\n",
       "q_1: ┤ X ├──■──┤ RZ(π/2) ├┤ RY(π/8) ├┤ X ├┤ RY(-π/8) ├──■──┤ RZ(-π/2) ├─░─»\n",
       "     └───┘     └─────────┘└─────────┘└───┘└──────────┘     └──────────┘ ░ »\n",
       "q_2: ───────────────────────────────────────────────────────────────────░─»\n",
       "                                                                        ░ »\n",
       "q_3: ───────────────────────────────────────────────────────────────────░─»\n",
       "                                                                        ░ »\n",
       "c: 4/═════════════════════════════════════════════════════════════════════»\n",
       "                                                                          »\n",
       "«     ┌─────────┐                                                     ░ »\n",
       "«q_0: ┤ RZ(π/2) ├──■───────────────────────■───────────────────■───■──░─»\n",
       "«     └─────────┘┌─┴─┐┌─────┐┌───┐┌─────┐┌─┴─┐┌───┐┌───┐┌───┐┌─┴─┐ │  ░ »\n",
       "«q_1: ───────────┤ X ├┤ SDG ├┤ H ├┤ TDG ├┤ X ├┤ T ├┤ H ├┤ S ├┤ X ├─■──░─»\n",
       "«                └───┘└─────┘└───┘└─────┘└───┘└───┘└───┘└───┘└───┘    ░ »\n",
       "«q_2: ────────────────────────────────────────────────────────────────░─»\n",
       "«                                                                     ░ »\n",
       "«q_3: ────────────────────────────────────────────────────────────────░─»\n",
       "«                                                                     ░ »\n",
       "«c: 4/══════════════════════════════════════════════════════════════════»\n",
       "«                                                                       »\n",
       "«                                                                   ░ ┌───────┐»\n",
       "«q_0: ──────────────────────────────────────────────────────────────░─┤ RZ(0) ├»\n",
       "«                                                                   ░ └───────┘»\n",
       "«q_1: ──────────────────────────────────────────────────────────────░──────────»\n",
       "«     ┌───────┐                                                     ░          »\n",
       "«q_2: ┤ RZ(0) ├──■───────────────────────■───────────────────■───■──░──────────»\n",
       "«     └───────┘┌─┴─┐┌─────┐┌───┐┌─────┐┌─┴─┐┌───┐┌───┐┌───┐┌─┴─┐ │  ░          »\n",
       "«q_3: ─────────┤ X ├┤ SDG ├┤ H ├┤ TDG ├┤ X ├┤ T ├┤ H ├┤ S ├┤ X ├─■──░──────────»\n",
       "«              └───┘└─────┘└───┘└─────┘└───┘└───┘└───┘└───┘└───┘    ░          »\n",
       "«c: 4/═════════════════════════════════════════════════════════════════════════»\n",
       "«                                                                              »\n",
       "«                                                          ░               »\n",
       "«q_0: ──■───────────────────────■───────────────────■───■──░───────────────»\n",
       "«     ┌─┴─┐┌─────┐┌───┐┌─────┐┌─┴─┐┌───┐┌───┐┌───┐┌─┴─┐ │  ░               »\n",
       "«q_1: ┤ X ├┤ SDG ├┤ H ├┤ TDG ├┤ X ├┤ T ├┤ H ├┤ S ├┤ X ├─■──░───────────────»\n",
       "«     └───┘└─────┘└───┘└─────┘└───┘└───┘└───┘└───┘└───┘    ░ ┌───────┐     »\n",
       "«q_2: ─────────────────────────────────────────────────────░─┤ RZ(0) ├──■──»\n",
       "«                                                          ░ └───────┘┌─┴─┐»\n",
       "«q_3: ─────────────────────────────────────────────────────░──────────┤ X ├»\n",
       "«                                                          ░          └───┘»\n",
       "«c: 4/═════════════════════════════════════════════════════════════════════»\n",
       "«                                                                          »\n",
       "«                                                     ░ ┌─┐         \n",
       "«q_0: ────────────────────────────────────────────────░─┤M├─────────\n",
       "«                                                     ░ └╥┘┌─┐      \n",
       "«q_1: ────────────────────────────────────────────────░──╫─┤M├──────\n",
       "«                                                     ░  ║ └╥┘┌─┐   \n",
       "«q_2: ─────────────────────■───────────────────■───■──░──╫──╫─┤M├───\n",
       "«     ┌─────┐┌───┐┌─────┐┌─┴─┐┌───┐┌───┐┌───┐┌─┴─┐ │  ░  ║  ║ └╥┘┌─┐\n",
       "«q_3: ┤ SDG ├┤ H ├┤ TDG ├┤ X ├┤ T ├┤ H ├┤ S ├┤ X ├─■──░──╫──╫──╫─┤M├\n",
       "«     └─────┘└───┘└─────┘└───┘└───┘└───┘└───┘└───┘    ░  ║  ║  ║ └╥┘\n",
       "«c: 4/═══════════════════════════════════════════════════╩══╩══╩══╩═\n",
       "«                                                        0  1  2  3 "
      ]
     },
     "execution_count": 28,
     "metadata": {},
     "output_type": "execute_result"
    }
   ],
   "source": [
    "%reset -f\n",
    "#%matplotlib inline\n",
    "# Importing standard Qiskit libraries and configuring account\n",
    "from qiskit import QuantumCircuit, execute, Aer, IBMQ, QuantumRegister\n",
    "from qiskit.providers.aer import QasmSimulator, StatevectorSimulator, UnitarySimulator\n",
    "from qiskit.compiler import transpile, assemble\n",
    "from qiskit.tools.monitor import job_monitor\n",
    "from qiskit.tools.jupyter import *\n",
    "from qiskit.visualization import *\n",
    "from qiskit.quantum_info import *\n",
    "import numpy as np\n",
    "provider = IBMQ.load_account()\n",
    "\n",
    "    \n",
    "# Loading your IBM Q account(s)\n",
    "#provider = IBMQ.load_account()\n",
    "\n",
    "#constants\n",
    "n = 4\n",
    "lambd = 1.0\n",
    "\n",
    "def thetak(k,lamb):\n",
    "    num = lamb - np.cos(2*np.pi*k/n)\n",
    "    denom = np.sqrt( (lamb-np.cos(2*np.pi*k/n))**2 + np.sin(2*np.pi*k/n)**2)\n",
    "    theta = np.arccos(num/denom)\n",
    "    return theta\n",
    "\n",
    "#Create functions based on the decomposition included in appendix of Ising paper\n",
    "def bog(qcirc, q1, q2, theta):\n",
    "    qcirc.x(q2)\n",
    "    qcirc.cnot(q2, q1)\n",
    "    #Controlled RX gate\n",
    "    qcirc.rz(np.pi/2, q2)\n",
    "    qcirc.ry(theta/2, q2)\n",
    "    qcirc.cnot(q1, q2)\n",
    "    qcirc.ry(-theta/2, q2)\n",

    "    qcirc.cx(q1, q2) #changed from qc to qcirc here - Bruna\n",
    "    qcirc.rz(-np.pi/2, q2)\n",
    "    #####################\n",
    "    qcirc.cx(q2, q1)\n",
    "    qcirc.x(q2)\n",

    "    qcirc.barrier()\n",
    "    return qcirc\n",
    "    \n",
    "def fourier(qcirc, q1, q2, phase):\n",
    "    qcirc.rz(phase, q1)\n",
    "    qcirc.cnot(q1, q2)\n",
    "    #Controlled Hadamard\n",
    "    qcirc.sdg(q2)\n",
    "    qcirc.h(q2)\n",
    "    qcirc.tdg(q2)\n",
    "    qcirc.cnot(q1, q2)\n",
    "    qcirc.t(q2)\n",
    "    qcirc.h(q2)\n",
    "    qcirc.s(q2)\n",
    "    ####################\n",
    "    qcirc.cnot(q1, q2)\n",
    "    qcirc.cz(q1, q2)\n",
    "    qcirc.barrier()\n",
    "    return qcirc\n",
    "\n",
    "def digit_sum(n):\n",
    "    num_str = str(n)\n",
    "    sum = 0\n",
    "    for i in range(0, len(num_str)):\n",
    "        sum += int(num_str[i])\n",
    "    return sum\n",
    "\n",

    "def ground_state(lamb, backend_name): # backend is now an imput, so we can plot \n",
    "                                      # different ones easily - Bruna\n",
    "    qc = QuantumCircuit(4, 4)\n",
    "    #Set correct ground state if lambda < 1\n",
    "    if lamb < 1:\n",
    "        qc.x(3)\n",
    "        qc.barrier()\n",
    "    #magnetization\n",
    "    mag = []\n",
    "    \n",
    "    #Apply disentangling gates\n",
    "    qc = bog(qc, 0, 1, thetak(1.,lamb))\n",
    "    qc = fourier(qc, 0, 1, 2*np.pi/n)\n",
    "    qc = fourier(qc, 2, 3, 0.)\n",
    "    qc = fourier(qc, 0, 1, 0.)\n",
    "    qc = fourier(qc, 2, 3, 0.)\n",
    "    #Set measurement step\n",
    "    for i in range(0,4):\n",
    "        qc.measure(i,i)\n",
    "        \n",
    "    backend = Aer.get_backend(backend_name)\n",
    "    shots = 1024\n",
    "    max_credits = 10 #Max number of credits to spend on execution\n",
    "    job = execute(qc, backend=backend, shots=shots, max_credits=max_credits)\n",
    "    job_monitor(job)\n",
    "    result = job.result()\n",
    "    counts = result.get_counts(qc)\n",
    "    while not '0000' in counts:\n",
    "        job = execute(qc, backend=backend, shots=shots, max_credits=max_credits)\n",
    "        job_monitor(job)\n",
    "        result = job.result()\n",
    "        counts = result.get_counts(qc)\n",
    "    #Check what ground state is based on lambda\n",
    "    if lamb < 1:\n",
    "        return counts['0001']\n",
    "    return counts['0000'] # it does not always works, sometimes it returns keyword error \n",
    "                                # maybe we can add another else for the possibility of other states, but \n",
    "                                # do not use it for plotting - Bruna\n",

    "\n",
    "F1_dag = Operator([\n",
    "    [1, 0, 0, 0],\n",
    "    [0, 1/np.sqrt(2), 1/np.sqrt(2), 0],\n",
    "    [0, 1/np.sqrt(2)*np.exp(-2*np.pi*1j/n), -1/np.sqrt(2)*np.exp(-2*np.pi*1j/n), 0],\n",
    "    [0, 0, 0, -np.exp(-2*np.pi*1j/n)]])\n",
    "\n",
    "print(ground_state(lambd, 'statevector_simulator'))\n",
    "\n",
    "print(ground_state(.8,'statevector_simulator'))"
   ]
  },
  {
   "cell_type": "code",
   "execution_count": 12,
   "metadata": {},
   "outputs": [
    {
     "name": "stdout",
     "output_type": "stream",
     "text": [
      "Job Status: job has successfully run\n",
      "Job Status: job has successfully run\n",
      "Job Status: job has successfully run\n",
      "Job Status: job has successfully run\n",
      "Job Status: job has successfully run\n",
      "Job Status: job has successfully run\n",
      "Job Status: job has successfully run\n",
      "Job Status: job has successfully run\n",
      "Job Status: job has successfully run\n",
      "Job Status: job has successfully run\n",
      "Job Status: job has successfully run\n",
      "[1, 1, 1, 1, 1, 1, 1, 1, 1, 1, 1]\n"
     ]
    }
   ],
   "source": [
    "lmbd = np.arange(.2, 1.75, 0.5)\n",
    "sigmaz = []\n",
    "for l in lmbd:\n",
    "    sigmaz.append(ground_state(l, 'statevector_simulator'))\n",
    "    \n",
    "print(sigmaz)\n",
    "\n"
   ]
  },
  {
   "cell_type": "code",
   "execution_count": 18,
   "metadata": {},
   "outputs": [
    {
     "data": {
      "text/plain": [
       "(0.0, 1.8)"
      ]
     },
     "execution_count": 18,
     "metadata": {},
     "output_type": "execute_result"
    },
    {
     "data": {
      "image/png": "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\n",
      "text/plain": [
       "<Figure size 432x288 with 1 Axes>"
      ]
     },
     "metadata": {
      "needs_background": "light"
     },
     "output_type": "display_data"
    }
   ],
   "source": [
    "plt.plot(lmbd, sigmaz)\n",
    "plt.ylim(0., 1.1)\n",
    "plt.xlim(0., 1.8)"
   ]
  },
  {
   "cell_type": "markdown",
   "metadata": {},
   "source": [
    "$ \\newcommand{\\ket}[1]{\\left|{#1}\\right\\rangle}$\n",
    "$ \\newcommand{\\bra}[1]{\\left\\langle{#1}\\right|}$\n",
    "$$ \\newcommand{\\braket}[2]{\\left\\langle{#1}\\middle|{#2}\\right\\rangle}$$\n",
    "\n",
    "when it comes to implementation:  \n",
    "first try to run circuit on simulator \n",
    "second try to run on real hardware\n",
    "\n",
    "long term goal is reproduce figures 5 (Ground state of a spin chain)and 6 (time evolution of operator $\\sigma_z$) \n",
    "\n",
    "short term goal is initialize the state to  $ \\ket{0000}  $ and $\\ket{ 1100} $"
   ]
  },
  {
   "cell_type": "code",

   "execution_count": 9,
   "metadata": {},

   "outputs": [
    {
     "name": "stdout",
     "output_type": "stream",
     "text": [

      "Job Status: job has successfully run\n"
     ]
    },
    {
     "data": {

      "image/png": "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\n",
      "text/plain": [
       "<Figure size 504x360 with 1 Axes>"
      ]
     },

     "execution_count": 9,

     "metadata": {},
     "output_type": "execute_result"
    }
   ],
   "source": [
    "#Start up and initialize circuit\n",
    "#Measurement\n",
    "qc = QuantumCircuit(4, 4)\n",
    "    #Set correct ground state if lambda < 1\n",
    "if lambd < 1:\n",
    "    qc.x(3)\n",
    "    qc.barrier()\n",
    "\n",
    "    #Apply disentangling gates\n",
    "qc = bog(qc, 0, 1, thetak(1.))\n",
    "qc = fourier(qc, 0, 1, 2*np.pi/n)\n",
    "qc = fourier(qc, 2, 3, 0.)\n",
    "qc = fourier(qc, 0, 1, 0.)\n",
    "qc = fourier(qc, 2, 3, 0.)\n",
    "    #Set measurement step\n",
    "for i in range(0,4):\n",
    "    qc.measure(i,i)\n",
    "    \n",
    "\n",
    "    \n",
    "    #Choose provider and backend\n",
    "#provider = IBMQ.get_provider()\n",
    "#provider = AerProvider()\n",
    "#backend = Aer.get_backend('statevector_simulator')\n",
    "backend = Aer.get_backend('qasm_simulator')\n",
    "#backend = provider.get_backend('ibmq_qasm_simulator')\n",
    "#backend = provider.get_backend('ibmqx4')\n",
    "#backend = provider.get_backend('ibmqx2')\n",
    "#backend = provider.get_backend('ibmq_16_melbourne')\n",
    "\n",
    "shots = 1024\n",
    "max_credits = 10 #Max number of credits to spend on execution\n",

    "job = execute(qc, backend=backend, shots=shots, max_credits=max_credits)  \n",
    "job_monitor(job)\n",
    "result = job.result()\n",
    "counts = result.get_counts(qc)\n",
    "plot_histogram(counts)\n",

    "\n",
    " # had to comment this part because qc is a local variable in groundstate function now - Bruna"

    "job = execute(qc, backend=backend, shots=shots, max_credits=max_credits)\n",
    "job_monitor(job_exp)\n",
    "result = job.result()\n",
    "counts = result.get_counts(qc)\n",
    "plot_histogram(counts)\n",
    "\n"
   ]
  },
  {
   "cell_type": "code",
   "execution_count": 10,
   "metadata": {},
   "outputs": [
    {
     "name": "stdout",
     "output_type": "stream",
     "text": [
      "|0000> probability should be:  0.8535533905932737\n",
      "|0011> probability should be:  0.14644660940672624\n"
     ]
    }
   ],
   "source": [
    "phi = np.arccos(lambd/np.sqrt(1+lambd**2))/2\n",
    "#print(result.get_statevector(qc))\n",
    "print(\"|0000> probability should be: \",np.cos(phi)**2)\n",
    "print(\"|0011> probability should be: \",np.sin(phi)**2 )"
   ]
  },
  {
   "cell_type": "code",
   "execution_count": null,
   "metadata": {},
   "outputs": [],
   "source": [
    "#print(counts['0000'])"
   ]
  },
  {
   "cell_type": "code",
   "execution_count": null,
   "metadata": {},
   "outputs": [],
   "source": []
  }
 ],
 "metadata": {
  "kernelspec": {
   "display_name": "Python 3",
   "language": "python",
   "name": "python3"
  },
  "language_info": {
   "codemirror_mode": {
    "name": "ipython",
    "version": 3
   },
   "file_extension": ".py",
   "mimetype": "text/x-python",
   "name": "python",
   "nbconvert_exporter": "python",
   "pygments_lexer": "ipython3",
   "version": "3.7.5"
  }
 },
 "nbformat": 4,
 "nbformat_minor": 4
}
