{
 "cells": [
  {
   "cell_type": "code",
   "execution_count": 8,
   "metadata": {},
   "outputs": [
    {
     "name": "stderr",
     "output_type": "stream",
     "text": [
      "/home/kaelyn/anaconda3/envs/qiskit/lib/python3.7/site-packages/qiskit/providers/ibmq/ibmqfactory.py:192: UserWarning: Timestamps in IBMQ backend properties, jobs, and job results are all now in local time instead of UTC.\n",
      "  warnings.warn('Timestamps in IBMQ backend properties, jobs, and job results '\n",
      "ibmqfactory.load_account:WARNING:2021-02-04 22:41:43,581: Credentials are already in use. The existing account in the session will be replaced.\n"
     ]
    },
    {
     "data": {
      "text/html": [
       "<pre style=\"word-wrap: normal;white-space: pre;background: #fff0;line-height: 1.1;font-family: &quot;Courier New&quot;,Courier,monospace\">     ┌─────────┐┌─────────┐          ┌─────────┐          ┌─┐      \n",
       "q_0: ┤0        ├┤0        ├──────────┤0        ├──────────┤M├──────\n",
       "     │  B1_dag ││  F1_dag │┌────────┐│  F0_dag │┌────────┐└╥┘┌─┐   \n",
       "q_1: ┤1        ├┤1        ├┤0       ├┤1        ├┤0       ├─╫─┤M├───\n",
       "     ├─────────┤└─────────┘│  fSWAP │├─────────┤│  fSWAP │ ║ └╥┘┌─┐\n",
       "q_2: ┤0        ├───────────┤1       ├┤0        ├┤1       ├─╫──╫─┤M├\n",
       "     │  F0_dag │           └────────┘│  F0_dag │└──┬─┬───┘ ║  ║ └╥┘\n",
       "q_3: ┤1        ├─────────────────────┤1        ├───┤M├─────╫──╫──╫─\n",
       "     └─────────┘                     └─────────┘   └╥┘     ║  ║  ║ \n",
       "c: 4/═══════════════════════════════════════════════╩══════╩══╩══╩═\n",
       "                                                    3      0  1  2 </pre>"
      ],
      "text/plain": [
       "     ┌─────────┐┌─────────┐          ┌─────────┐          ┌─┐      \n",
       "q_0: ┤0        ├┤0        ├──────────┤0        ├──────────┤M├──────\n",
       "     │  B1_dag ││  F1_dag │┌────────┐│  F0_dag │┌────────┐└╥┘┌─┐   \n",
       "q_1: ┤1        ├┤1        ├┤0       ├┤1        ├┤0       ├─╫─┤M├───\n",
       "     ├─────────┤└─────────┘│  fSWAP │├─────────┤│  fSWAP │ ║ └╥┘┌─┐\n",
       "q_2: ┤0        ├───────────┤1       ├┤0        ├┤1       ├─╫──╫─┤M├\n",
       "     │  F0_dag │           └────────┘│  F0_dag │└──┬─┬───┘ ║  ║ └╥┘\n",
       "q_3: ┤1        ├─────────────────────┤1        ├───┤M├─────╫──╫──╫─\n",
       "     └─────────┘                     └─────────┘   └╥┘     ║  ║  ║ \n",
       "c: 4/═══════════════════════════════════════════════╩══════╩══╩══╩═\n",
       "                                                    3      0  1  2 "
      ]
     },
     "execution_count": 8,
     "metadata": {},
     "output_type": "execute_result"
    }
   ],
   "source": [
    "#%matplotlib inline\n",
    "# Importing standard Qiskit libraries and configuring account\n",
    "from qiskit import QuantumCircuit, execute, Aer, IBMQ, QuantumRegister\n",
    "from qiskit.compiler import transpile, assemble\n",
    "from qiskit.tools.monitor import job_monitor\n",
    "from qiskit.tools.jupyter import *\n",
    "from qiskit.visualization import *\n",
    "from qiskit.quantum_info import *\n",
    "import numpy as np\n",
    "provider = IBMQ.load_account()\n",
    "\n",
    "    \n",
    "# Loading your IBM Q account(s)\n",
    "#provider = IBMQ.load_account()\n",
    "\n",
    "#contants\n",
    "n = 1\n",
    "theta = 1\n",
    "\n",
    "#create quantum circuit\n",
    "qc = QuantumCircuit(4, 4)\n",
    "\n",
    "#create Quantum operators\n",
    "\n",
    "F1_dag = Operator([\n",
    "    [1, 0, 0, 0],\n",
    "    [0, 1/np.sqrt(2), 1/np.sqrt(2), 0],\n",
    "    [0, 1/np.sqrt(2)*np.exp(-2*np.pi*1j), -1/np.sqrt(2)*np.exp(-2*np.pi*1j), 0],\n",
    "    [0, 0, 0, -np.exp(-2*np.pi*1j)]])\n",
    "\n",
    "F0_dag = Operator([\n",
    "    [1, 0, 0, 0],\n",
    "    [0, 1/np.sqrt(2), 1/np.sqrt(2), 0],\n",
    "    [0, 1/np.sqrt(2), -1/np.sqrt(2), 0],\n",
    "    [0, 0, 0, -1]])\n",
    "B1_dag = Operator([\n",
    "    [np.cos(theta/2), 0, 0, 1j*np.sin(theta/2)],\n",
    "    [0, 1, 0, 0],\n",
    "    [0, 0, 1, 0],\n",
    "    [ 1j*np.sin(theta/2),0,0,np.cos(theta/2)]])\n",
    "\n",
    "fswap = Operator([\n",
    "        [1,0,0,0],\n",
    "        [0,0,1,0],\n",
    "        [0,1,0,0],\n",
    "        [0,0,0,-1]\n",
    "])\n",
    "\n",
    "\n",
    "\n",
    "#Create quantum Gates\n",
    "qc.unitary(B1_dag, [0, 1], label='B1_dag')\n",
    "qc.unitary(F1_dag, [0, 1], label='F1_dag')\n",
    "qc.unitary(F0_dag, [2, 3], label='F0_dag')\n",
    "qc.unitary(fswap,[1,2],label ='fSWAP')\n",
    "qc.unitary(F0_dag, [0, 1], label='F0_dag')\n",
    "qc.unitary(F0_dag, [2, 3], label='F0_dag')\n",
    "qc.unitary(fswap,[1,2],label ='fSWAP')\n",
    "\n",
    "#Set measurement step\n",
    "for i in range(0,4):\n",
    "    qc.measure(i,i)\n",
    "\n",
    "#display circuit\n",
    "qc.draw()\n"
   ]
  },
  {
   "cell_type": "markdown",
   "metadata": {},
   "source": [
    "$ \\newcommand{\\ket}[1]{\\left|{#1}\\right\\rangle}$\n",
    "$ \\newcommand{\\bra}[1]{\\left\\langle{#1}\\right|}$\n",
    "$$ \\newcommand{\\braket}[2]{\\left\\langle{#1}\\middle|{#2}\\right\\rangle}$$\n",
    "\n",
    "when it comes to implementation:  \n",
    "first try to run circuit on simulator \n",
    "second try to run on real hardware\n",
    "\n",
    "long term goal is reproduce figures 5 (Ground state of a spin chain)and 6 (time evolution of operator $\\sigma_z$) \n",
    "\n",
    "short term goal is initialize the state to  $ \\ket{0000}  $ and $\\ket{ 1100} $"
   ]
  },
  {
   "cell_type": "code",
   "execution_count": 9,
   "metadata": {},
   "outputs": [
    {
     "name": "stdout",
     "output_type": "stream",
     "text": [
      "Job Status: job has successfully run\n"
     ]
    },
    {
     "data": {
      "image/png": "[encoded data removed]",
      "text/plain": [
       "<Figure size 504x360 with 1 Axes>"
      ]
     },
     "execution_count": 9,
     "metadata": {},
     "output_type": "execute_result"
    }
   ],
   "source": [
    "#Start up and initialize circuit\n",
    "#Measurement\n",
    "\n",
    "    \n",
    "    #Choose provider and backend\n",
    "#provider = IBMQ.get_provider()\n",
    "#backend = Aer.get_backend('statevector_simulator')\n",
    "backend = provider.get_backend('ibmq_qasm_simulator')\n",
    "#backend = provider.get_backend('ibmqx4')\n",
    "#backend = provider.get_backend('ibmqx2')\n",
    "#backend = provider.get_backend('ibmq_16_melbourne')\n",
    "\n",
    "shots = 1024\n",
    "max_credits = 10 #Max number of credits to spend on execution\n",
    "job_exp = execute(qc, backend=backend, shots=shots, max_credits=max_credits)\n",
    "job_monitor(job_exp)\n",
    "result = job_exp.result()\n",
    "counts = result.get_counts(qc)\n",
    "plot_histogram(counts)"
   ]
  },
  {
   "cell_type": "code",
   "execution_count": null,
   "metadata": {},
   "outputs": [],
   "source": []
  }
 ],
 "metadata": {
  "kernelspec": {
   "display_name": "Python 3",
   "language": "python",
   "name": "python3"
  },
  "language_info": {
   "codemirror_mode": {
    "name": "ipython",
    "version": 3
   },
   "file_extension": ".py",
   "mimetype": "text/x-python",
   "name": "python",
   "nbconvert_exporter": "python",
   "pygments_lexer": "ipython3",
   "version": "3.7.5"
  }
 },
 "nbformat": 4,
 "nbformat_minor": 4
}
