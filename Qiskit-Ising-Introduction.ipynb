{
 "cells": [
  {
   "cell_type": "markdown",
   "metadata": {},
   "source": [
    "# Ising Model Simulation Using Qiskit\n",
    "$$\\newcommand{\\ket}[1]{\\left|{#1}\\right\\rangle}$$\n",
    "$$\\newcommand{\\bra}[1]{\\left\\langle{#1}\\right|}$$\n",
    "$$\\newcommand{\\braket}[2]{\\left\\langle{#1}\\middle|{#2}\\right\\rangle}$$"
   ]
  },
  {
   "cell_type": "markdown",
   "metadata": {},
   "source": [
    "### Contributors: \n",
    "Kaelyn Ferris, Bruna Shinohara de Mendonça, Matthew McGreal\n",
    "\n",
    "*With heavy inspiration from the work of Alba Cervera-Lierta* \n",
    "\thttps://doi.org/10.22331/q-2018-12-21-114"
   ]
  },
  {
   "cell_type": "markdown",
   "metadata": {},
   "source": [
    "## Abstract\n",
    "\n",
    "In this notebook we will simulate the time evolution of a one-dimensional (2D to come) Ising spin chain using a quantum computing environment.  This particular example will construct a quantum circuit which diagonalizes the Hamiltonian."
   ]
  },
  {
   "cell_type": "markdown",
   "metadata": {},
   "source": [
    "## Contents\n",
    "1. [Introduction](#introduction)\n",
    "2. [Diagonalizing Circuit](#diag-circuit)\n",
    "    2.1 [Jordan-Wigner Transformation](#jw-transform)\n",
    "    2.2 [Fourier Transform](#fourier-transform)\n",
    "    2.3 [Bogoliubov Transformation](#bogo-transform)\n",
    "3. [Time Evolution](#time-evolution)\n",
    "4. [Thermal Simulation](#thermal-simulation)"
   ]
  },
  {
   "cell_type": "markdown",
   "metadata": {},
   "source": [
    "## Introduction <a id='introduction'></a>\n",
    "\n",
    "The field of quantum computing holds many promises for computational speedups of difficult problems such as machine learning, quantum chemistry, and strongly correlated many-body systems.  Of particular interest to this notebook are simulating strongly correlated quantum systems, specifically the Transverse-field Ising model.  The Hamiltonian of this model has the form\n",
    "\n",
    "$$ H = \\sum_{i=1}^{N} \\sigma_i^x\\sigma_{i+1}^x + \\lambda\\sum_{i=1}^{N}\\sigma_i^z $$\n",
    "\n",
    "where $\\sigma_i^l$ are the Pauli operators acting on the $i^{th}$ spin and $\\lambda$ is the strength of an external magnetic field.\n",
    "\n",
    "One of the main observables of interest in this model is the magnetization <$\\sigma_z$> which, as a function of temperature and field strength, will undergo a phase transition from antiferromagnetic to paramagnetic.  In this notebook we will explore a specific Hamiltonian which approximates the infinite chain by including periodic boundary conditions.  We then build a circuit which diagonalizes the Ising Hamiltonian so as to map each of the computational basis states of a quantum computer with the eigenstates of the system."
   ]
  },
  {
   "cell_type": "markdown",
   "metadata": {},
   "source": [
    "## Diagonalizing Circuit <a id='diag-circuit'></a>\n",
    "\n",
    "\n",
    "*Discuss why having a set of gates diagonalizing the Hamiltonian is useful for simulating a quantum system in a quantum computing environment.*"
   ]
  },
  {
   "cell_type": "markdown",
   "metadata": {},
   "source": [
    "## Jordan-Wigner Transform <a id='jw-transform'></a>\n",
    "To utilize quantum computing when simulating Hubbard-like systems, one needs to first transform the Hubbard Hamiltonian into a set of operations accessible to quantum computers.  Namely, we use the Jordan-Wigner transformation to map the creation and annihilation operators of the Hubbard Hamiltonian to a set of Pauli matrices.  Traditionally, the Hubbard Hamiltonian in second quantization utilize creation and annihilation operators $\\hat{c}_{j,\\sigma}$ and $\\hat{c}_{j,\\sigma}^\\dagger$ which changes the occupation of a given spin orbital, as described above.  In a quantum computing environment, we map each fermionic mode (a given site with a given spin) to a single qubit.  Since we are now indexing by mode, we then drop the spin index and sum over the fermionic modes with the action of each operator being $\\hat{c}_{j}^\\dagger\\ket{0}_{j} = \\ket{1}_{j}$,  $\\hat{c}_{j}\\ket{1}_{j} = \\ket{0}_{j}$, $\\hat{c}^\\dagger_{j}\\ket{1}_{j}=0$, and $\\hat{c}_{j}\\ket{0}_{j}=0$ for each fermionic mode $j$.  It is straightforward to write their matrix representation in terms of the Pauli matrices\n",
    "\\begin{align}\n",
    "    \\hat{c}_{j}^\\dagger = \\begin{pmatrix} 0 & 0 \\\\ 1 & 0 \\end{pmatrix} = \\frac{X_{j} - iY_{j}}{2} \\nonumber \\\\\n",
    "    \\hat{c}_{j} = \\begin{pmatrix} 0 & 1 \\\\ 0 & 0 \\end{pmatrix} = \\frac{X_{j} + iY_{j}}{2}\n",
    "    \\label{eq:c-cdagger}\n",
    "\\end{align}\n",
    "where $X_{j}$, $Y_{j}$ are the associated Pauli operators acting on the j$^{th}$ mode.  However, this mapping does not account for the antisymmetric characteristics of fermions.  We know that $\\hat{c}_{j}$ and $\\hat{c}_{j}^\\dagger$, as defined in the previous section, anti-commute but this combination of Pauli matrices do not.  This can be remedied by noting that the Pauli matrices naturally anti-commute by $XZ = -ZX$ and $YZ = -ZY$.  Interspersing $Z$ operators into the construction will thus emulate the anti-commutation needed which is shown as follows\n",
    "\n",
    "\\begin{align}\n",
    "    \\hat{c}_{1}^\\dagger &= \\left(\\frac{X_1-iY_1}{2}\\right)\\otimes 1 \\otimes 1 \\otimes ... \\otimes 1  \\nonumber \\\\\n",
    "    \\hat{c}_{2}^\\dagger &= Z_1 \\otimes \\left(\\frac{X_2-iY_2}{2}\\right)\\otimes 1 \\otimes 1 \\otimes ... \\otimes 1 \\nonumber \\\\\n",
    "    \\hat{c}_{3}^\\dagger &= Z_1 \\otimes Z_2 \\otimes \\left(\\frac{X_3-iY_3}{2}\\right)\\otimes 1 \\otimes 1 \\otimes ... \\otimes 1 \\nonumber \\\\\n",
    "    &\\vdots \\nonumber \\\\\n",
    "    \\hat{c}_{N}^\\dagger &= Z_1\\otimes Z_2\\otimes Z_3\\otimes ... \\otimes \\left(\\frac{X_N-iY_N}{2}\\right).\n",
    "\\end{align}\n",
    "\n",
    "We can also rewrite the number operator as \n",
    "\\begin{equation} \n",
    "    \\hat{n}_{j} = \\hat{c}_{j}^\\dagger \\hat{c}_{j} = \\frac{(1-Z_{j})}{2}\n",
    "\\end{equation}\n",
    "and put these together into the Hubbard Hamiltonian to obtain\n",
    "\\begin{equation}\n",
    "  \\boxed{  H = -\\frac{t}{2}\\sum_{<ij>}Z_{j+1:i-1}(X_{i}X_{j} + Y_{i}Y_{j}) + \\frac{U}{4}\\sum_i(I-Z_{i}^{\\uparrow})(I-Z_{i}^{\\downarrow}) }\n",
    "\\end{equation}\n",
    "where $Z_{j+1:i-1}$ is the matrix product of $Z$ operators from mode $j+1$ to mode $i-1$ (typically there is only one $Z$ if the sum is over nearest neighbor sites).    "
   ]
  },
  {
   "cell_type": "markdown",
   "metadata": {},
   "source": [
    "### Fourier Transform <a id='fourier-transform'></a>"
   ]
  },
  {
   "cell_type": "markdown",
   "metadata": {},
   "source": [
    "### Bogoliubov Transform <a id='bogo-transform'></a>"
   ]
  },
  {
   "cell_type": "markdown",
   "metadata": {},
   "source": [
    "## Time Evolution <a id='time-evolution'></a>"
   ]
  },
  {
   "cell_type": "markdown",
   "metadata": {},
   "source": [
    "## Thermal Simulation <a id='thermal-simulation'></a>"
   ]
  },
  {
   "cell_type": "code",
   "execution_count": null,
   "metadata": {},
   "outputs": [],
   "source": []
  }
 ],
 "metadata": {
  "kernelspec": {
   "display_name": "Python 3",
   "language": "python",
   "name": "python3"
  },
  "language_info": {
   "codemirror_mode": {
    "name": "ipython",
    "version": 3
   },
   "file_extension": ".py",
   "mimetype": "text/x-python",
   "name": "python",
   "nbconvert_exporter": "python",
   "pygments_lexer": "ipython3",
   "version": "3.7.5"
  }
 },
 "nbformat": 4,
 "nbformat_minor": 2
}
